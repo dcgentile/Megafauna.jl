{
 "cells": [
  {
   "cell_type": "code",
   "execution_count": 1,
   "id": "1a966d9c-bd78-422e-8fa5-ca1799babc5a",
   "metadata": {},
   "outputs": [],
   "source": [
    "using LinearRegression\n",
    "using Statistics\n",
    "using CairoMakie\n",
    "using DelimitedFiles\n",
    "using Megafauna\n",
    "using Distances\n",
    "using HypothesisTests\n",
    "include(\"../src/SegmentDistances.jl\")\n",
    "include(\"../src/DPC.jl\")\n",
    "\n",
    "using OptimalTransport\n",
    "using ProgressMeter"
   ]
  },
  {
   "cell_type": "code",
   "execution_count": 2,
   "id": "882d7316-85e2-4bab-a161-a3a56261a848",
   "metadata": {},
   "outputs": [
    {
     "name": "stdout",
     "output_type": "stream",
     "text": [
      "enumerating change points\n",
      "number of dimensions: 1\n",
      "Number of segments = 47\n",
      "Computing 1081 segment distances\n"
     ]
    },
    {
     "name": "stderr",
     "output_type": "stream",
     "text": [
      "\u001b[32mProgress: 100%|█████████████████████████████████████████| Time: 0:00:01\u001b[39m\n"
     ]
    },
    {
     "name": "stdout",
     "output_type": "stream",
     "text": [
      "finished computing distances\n",
      "9.16328667100115e-9\n",
      "enumerating change points\n",
      "number of dimensions: 1\n",
      "Number of segments = 1007\n",
      "Computing 506521 segment distances\n"
     ]
    },
    {
     "name": "stderr",
     "output_type": "stream",
     "text": [
      "\u001b[32mProgress: 100%|█████████████████████████████████████████| Time: 0:00:33\u001b[39m\n"
     ]
    },
    {
     "name": "stdout",
     "output_type": "stream",
     "text": [
      "finished computing distances\n",
      "1.4586214895741465e-7\n",
      "enumerating change points\n",
      "number of dimensions: 1\n",
      "Number of segments = 151\n",
      "Computing 11325 segment distances\n"
     ]
    },
    {
     "name": "stderr",
     "output_type": "stream",
     "text": [
      "\u001b[32mProgress: 100%|█████████████████████████████████████████| Time: 0:00:04\u001b[39m\n"
     ]
    },
    {
     "name": "stdout",
     "output_type": "stream",
     "text": [
      "finished computing distances\n",
      "5.2318697666942846e-11\n"
     ]
    },
    {
     "data": {
      "text/plain": [
       "1197-element Vector{Int64}:\n",
       "      1\n",
       "    376\n",
       "    384\n",
       "    494\n",
       "    499\n",
       "    547\n",
       "    556\n",
       "    567\n",
       "    570\n",
       "    608\n",
       "    611\n",
       "    614\n",
       "    622\n",
       "      ⋮\n",
       " 148088\n",
       " 148258\n",
       " 148259\n",
       " 148262\n",
       " 148264\n",
       " 148308\n",
       " 148317\n",
       " 148386\n",
       " 148393\n",
       " 148487\n",
       " 148495\n",
       " 150000"
      ]
     },
     "execution_count": 2,
     "metadata": {},
     "output_type": "execute_result"
    }
   ],
   "source": [
    "T = 150000\n",
    "X_shifted = readdlm(\"../data/VDP/V_3D_1ps_shifted.dat\")[1:T, 2:4] ./ 360\n",
    "X = (readdlm(\"../data/VDP/V_3D_1ps.dat\")[1:T,2:4] .+ 180) ./ 360\n",
    "Q = [0.98 0.9 0.97]\n",
    "W = [100 25 100]\n",
    "N = [2 7 3]\n",
    "jd_cps = findall(x -> any(y -> y > 0, x), eachrow(readdlm(\"../data/VDP/V_3D_1ps_shifted.lam10.0alpha0.7.transitionProba.dat\")[1:T,2:4]));\n",
    "\n",
    "x1_cps, x1_labels, _ = periodic_cluster_1d(X[:,1], Q[1], W[1], N[1])\n",
    "x2_cps, x2_labels, _ = periodic_cluster_1d(X[:,2], Q[2], W[2], N[2])\n",
    "x3_cps, x3_labels, _ = periodic_cluster_1d(X[:,3], Q[3], W[3], N[3])\n",
    "\n",
    "x1_cps = [t ∈ x1_cps ? 1 : 0 for t=1:T]\n",
    "x2_cps = [t ∈ x2_cps ? 1 : 0 for t=1:T]\n",
    "x3_cps = [t ∈ x3_cps ? 1 : 0 for t=1:T]\n",
    "\n",
    "mf_cps = findall(x -> any( y -> y > 0, x), eachrow(cat(x1_cps, x2_cps, x3_cps, dims=2)))"
   ]
  },
  {
   "cell_type": "code",
   "execution_count": 3,
   "id": "6c32a020-bfb1-406d-8e5b-d3d4ecfc8b9d",
   "metadata": {},
   "outputs": [
    {
     "data": {
      "text/plain": [
       "1"
      ]
     },
     "execution_count": 3,
     "metadata": {},
     "output_type": "execute_result"
    }
   ],
   "source": [
    "bart_cps = convert(Array{Int32}, readdlm(\"../data/VDP/vdp_joint_cps.txt\"))\n",
    "bart_cps = bart_cps[1:findfirst(x -> x > T, bart_cps)[1] - 1]\n",
    "bart_cps[1] = 1"
   ]
  },
  {
   "cell_type": "code",
   "execution_count": 4,
   "id": "c07a93cd-68da-4fec-9688-6fe27d9d74dc",
   "metadata": {},
   "outputs": [
    {
     "data": {
      "text/plain": [
       "dists (generic function with 1 method)"
      ]
     },
     "execution_count": 4,
     "metadata": {},
     "output_type": "execute_result"
    }
   ],
   "source": [
    "function dists_euc(X, cps)\n",
    "    S = length(cps) - 1\n",
    "    println(S)\n",
    "    D = zeros(S,S)\n",
    "    d = Euclidean()\n",
    "    C(X,Y) = pairwise(d, X', Y')\n",
    "    ε = 0.25\n",
    "    @showprogress for i=1:S, j=1:S\n",
    "        if i > j\n",
    "            t0, t1 = cps[i], cps[i+1]\n",
    "            s0, s1 = cps[j], cps[j+1]\n",
    "            Si, Sj = X[t0:t1,:], X[s0:s1,:]\n",
    "            a, b = fill(1, t1 - t0 + 1) / (t1 - t0 + 1), fill(1, s1 - s0 + 1) / (s1 - s0 + 1)\n",
    "            D[i,j] = D[j,i] = sqrt(sinkhorn2(a, b, C(Si, Sj), ε))\n",
    "        end\n",
    "    end\n",
    "        return D\n",
    "end\n",
    "\n",
    "function dists(X, cps)\n",
    "    S = length(cps) - 1\n",
    "    println(S)\n",
    "    D = zeros(S,S)\n",
    "    d = PeriodicEuclidean([1.0 1.0 1.0])\n",
    "    C(X,Y) = pairwise(d, X', Y').^2\n",
    "    ε = 0.25\n",
    "    @showprogress for i=1:S, j=1:S\n",
    "        if i > j\n",
    "            t0, t1 = cps[i], cps[i+1]\n",
    "            s0, s1 = cps[j], cps[j+1]\n",
    "            Si, Sj = X[t0:t1,:], X[s0:s1,:]\n",
    "            a, b = fill(1, t1 - t0 + 1) / (t1 - t0 + 1), fill(1, s1 - s0 + 1) / (s1 - s0 + 1)\n",
    "            D[i,j] = D[j,i] = sqrt(sinkhorn2(a, b, C(Si, Sj), ε))\n",
    "        end\n",
    "    end\n",
    "        return D\n",
    "end"
   ]
  },
  {
   "cell_type": "code",
   "execution_count": 5,
   "id": "f31cc8bb-707e-4f25-96d3-33b5218a72ab",
   "metadata": {},
   "outputs": [
    {
     "name": "stdout",
     "output_type": "stream",
     "text": [
      "3275\n"
     ]
    },
    {
     "name": "stderr",
     "output_type": "stream",
     "text": [
      "\u001b[32mProgress: 100%|█████████████████████████████████████████| Time: 0:02:32\u001b[39m\n"
     ]
    },
    {
     "data": {
      "text/plain": [
       "3275×3275 Matrix{Float64}:\n",
       " 0.0       0.370476  0.331675  0.401393  …  0.343763  0.334624  0.368825\n",
       " 0.370476  0.0       0.370811  0.332755     0.350532  0.391384  0.318353\n",
       " 0.331675  0.370811  0.0       0.391142     0.325106  0.305224  0.366052\n",
       " 0.401393  0.332755  0.391142  0.0          0.355206  0.414681  0.310598\n",
       " 0.382066  0.322906  0.379768  0.300274     0.352474  0.40236   0.312352\n",
       " 0.332214  0.37858   0.309751  0.399235  …  0.326571  0.300191  0.373653\n",
       " 0.347845  0.335425  0.339626  0.345845     0.329468  0.352929  0.328592\n",
       " 0.39119   0.323509  0.394034  0.313622     0.365944  0.417316  0.315943\n",
       " 0.334938  0.37333   0.314117  0.391537     0.326356  0.30938   0.367722\n",
       " 0.669909  0.68068   0.688478  0.725247     0.697107  0.69163   0.688965\n",
       " 0.632716  0.635325  0.65215   0.680444  …  0.657664  0.657865  0.64382\n",
       " 0.36254   0.344861  0.353336  0.349541     0.340067  0.366676  0.338583\n",
       " 0.651205  0.708994  0.645774  0.739889     0.672207  0.626115  0.711868\n",
       " ⋮                                       ⋱                      \n",
       " 0.325554  0.3465    0.31702   0.385106     0.324088  0.320355  0.34459\n",
       " 0.399356  0.333787  0.404338  0.32918      0.377783  0.426893  0.327228\n",
       " 0.329095  0.366173  0.30814   0.390669  …  0.321484  0.302516  0.361449\n",
       " 0.353526  0.342345  0.347867  0.356196     0.339228  0.360337  0.337655\n",
       " 0.369662  0.317786  0.358537  0.273215     0.329975  0.380063  0.299502\n",
       " 0.336814  0.361117  0.320083  0.376843     0.326069  0.322217  0.35475\n",
       " 0.375281  0.323148  0.379477  0.335055     0.358126  0.400344  0.317606\n",
       " 0.331192  0.35443   0.314594  0.371905  …  0.318449  0.314908  0.347507\n",
       " 0.396813  0.318493  0.399256  0.282007     0.36571   0.424363  0.30599\n",
       " 0.343763  0.350532  0.325106  0.355206     0.0       0.330032  0.342068\n",
       " 0.334624  0.391384  0.305224  0.414681     0.330032  0.0       0.38674\n",
       " 0.368825  0.318353  0.366052  0.310598     0.342068  0.38674   0.0"
      ]
     },
     "execution_count": 5,
     "metadata": {},
     "output_type": "execute_result"
    }
   ],
   "source": [
    "SIMPLED = dists_euc(X, jd_cps)"
   ]
  },
  {
   "cell_type": "code",
   "execution_count": 6,
   "id": "7da5801f-2283-47ff-884c-d7209a1cc511",
   "metadata": {},
   "outputs": [
    {
     "name": "stdout",
     "output_type": "stream",
     "text": [
      "3899\n"
     ]
    },
    {
     "name": "stderr",
     "output_type": "stream",
     "text": [
      "\u001b[32mProgress:  61%|████████████████████████▉                |  ETA: 0:01:26\u001b[39m"
     ]
    },
    {
     "ename": "LoadError",
     "evalue": "InterruptException:",
     "output_type": "error",
     "traceback": [
      "InterruptException:",
      "",
      "Stacktrace:",
      "  [1] rem_internal(x::Float64, y::Float64)",
      "    @ Base ./float.jl:529",
      "  [2] rem",
      "    @ ./float.jl:596 [inlined]",
      "  [3] mod",
      "    @ ./float.jl:605 [inlined]",
      "  [4] eval_op",
      "    @ ~/.julia/packages/Distances/mlz7p/src/metrics.jl:347 [inlined]",
      "  [5] _evaluate",
      "    @ ~/.julia/packages/Distances/mlz7p/src/metrics.jl:307 [inlined]",
      "  [6] PeriodicEuclidean",
      "    @ ~/.julia/packages/Distances/mlz7p/src/metrics.jl:331 [inlined]",
      "  [7] _pairwise!(metric::PeriodicEuclidean{Matrix{Float64}}, r::Matrix{Float64}, a::Adjoint{Float64, Matrix{Float64}}, b::Adjoint{Float64, Matrix{Float64}})",
      "    @ Distances ~/.julia/packages/Distances/mlz7p/src/generic.jl:212",
      "  [8] pairwise!(metric::PeriodicEuclidean{Matrix{Float64}}, r::Matrix{Float64}, a::Adjoint{Float64, Matrix{Float64}}, b::Adjoint{Float64, Matrix{Float64}}; dims::Int64)",
      "    @ Distances ~/.julia/packages/Distances/mlz7p/src/generic.jl:294",
      "  [9] pairwise!",
      "    @ ~/.julia/packages/Distances/mlz7p/src/generic.jl:273 [inlined]",
      " [10] pairwise(metric::PeriodicEuclidean{Matrix{Float64}}, a::Adjoint{Float64, Matrix{Float64}}, b::Adjoint{Float64, Matrix{Float64}}; dims::Nothing)",
      "    @ Distances ~/.julia/packages/Distances/mlz7p/src/generic.jl:344",
      " [11] pairwise",
      "    @ ~/.julia/packages/Distances/mlz7p/src/generic.jl:337 [inlined]",
      " [12] (::var\"#C#51\"{PeriodicEuclidean{Matrix{Float64}}})(X::Matrix{Float64}, Y::Matrix{Float64})",
      "    @ Main ./In[4]:25",
      " [13] macro expansion",
      "    @ ./In[4]:33 [inlined]",
      " [14] macro expansion",
      "    @ ~/.julia/packages/ProgressMeter/kVZZH/src/ProgressMeter.jl:1008 [inlined]",
      " [15] dists(X::Matrix{Float64}, cps::Vector{Int32})",
      "    @ Main ./In[4]:27",
      " [16] top-level scope",
      "    @ In[6]:1"
     ]
    }
   ],
   "source": [
    "BarTD = dists(X, bart_cps)"
   ]
  },
  {
   "cell_type": "code",
   "execution_count": 7,
   "id": "f7517375-c6c2-42a7-abe8-63656ae11d3b",
   "metadata": {},
   "outputs": [
    {
     "name": "stdout",
     "output_type": "stream",
     "text": [
      "1196\n"
     ]
    },
    {
     "name": "stderr",
     "output_type": "stream",
     "text": [
      "\u001b[32mProgress:  51%|████████████████████▉                    |  ETA: 0:00:58\u001b[39m"
     ]
    },
    {
     "ename": "LoadError",
     "evalue": "InterruptException:",
     "output_type": "error",
     "traceback": [
      "InterruptException:",
      "",
      "Stacktrace:",
      "  [1] exp(x::Float64)",
      "    @ Base.Math ./special/exp.jl:329",
      "  [2] _broadcast_getindex_evalf",
      "    @ ./broadcast.jl:678 [inlined]",
      "  [3] _broadcast_getindex",
      "    @ ./broadcast.jl:651 [inlined]",
      "  [4] getindex",
      "    @ ./broadcast.jl:610 [inlined]",
      "  [5] macro expansion",
      "    @ ./broadcast.jl:973 [inlined]",
      "  [6] macro expansion",
      "    @ ./simdloop.jl:77 [inlined]",
      "  [7] copyto!",
      "    @ ./broadcast.jl:972 [inlined]",
      "  [8] copyto!",
      "    @ ./broadcast.jl:925 [inlined]",
      "  [9] materialize!",
      "    @ ./broadcast.jl:883 [inlined]",
      " [10] materialize!",
      "    @ ./broadcast.jl:880 [inlined]",
      " [11] build_cache(::Type{Float64}, ::SinkhornGibbs, size2::Tuple{}, μ::Vector{Float64}, ν::Vector{Float64}, C::Matrix{Float64}, ε::Float64)",
      "    @ OptimalTransport ~/.julia/packages/OptimalTransport/DY1ln/src/entropic/sinkhorn_gibbs.jl:32",
      " [12] #build_solver#11",
      "    @ ~/.julia/packages/OptimalTransport/DY1ln/src/entropic/sinkhorn.jl:41 [inlined]",
      " [13] build_solver",
      "    @ ~/.julia/packages/OptimalTransport/DY1ln/src/entropic/sinkhorn.jl:21 [inlined]",
      " [14] sinkhorn(μ::Vector{Float64}, ν::Vector{Float64}, C::Matrix{Float64}, ε::Float64, alg::SinkhornGibbs; kwargs::@Kwargs{atol::Nothing, check_convergence::Int64})",
      "    @ OptimalTransport ~/.julia/packages/OptimalTransport/DY1ln/src/entropic/sinkhorn.jl:175",
      " [15] sinkhorn",
      "    @ ~/.julia/packages/OptimalTransport/DY1ln/src/entropic/sinkhorn.jl:173 [inlined]",
      " [16] sinkhorn2(μ::Vector{Float64}, ν::Vector{Float64}, C::Matrix{Float64}, ε::Float64, alg::SinkhornGibbs; regularization::Bool, plan::Nothing, kwargs::@Kwargs{atol::Nothing, check_convergence::Int64})",
      "    @ OptimalTransport ~/.julia/packages/OptimalTransport/DY1ln/src/entropic/sinkhorn_gibbs.jl:137",
      " [17] sinkhorn2",
      "    @ ~/.julia/packages/OptimalTransport/DY1ln/src/entropic/sinkhorn_gibbs.jl:123 [inlined]",
      " [18] #sinkhorn2#21",
      "    @ ~/.julia/packages/OptimalTransport/DY1ln/src/entropic/sinkhorn_gibbs.jl:110 [inlined]",
      " [19] sinkhorn2",
      "    @ ~/.julia/packages/OptimalTransport/DY1ln/src/entropic/sinkhorn_gibbs.jl:85 [inlined]",
      " [20] macro expansion",
      "    @ ./In[4]:33 [inlined]",
      " [21] macro expansion",
      "    @ ~/.julia/packages/ProgressMeter/kVZZH/src/ProgressMeter.jl:1008 [inlined]",
      " [22] dists(X::Matrix{Float64}, cps::Vector{Int64})",
      "    @ Main ./In[4]:27",
      " [23] top-level scope",
      "    @ In[7]:1"
     ]
    }
   ],
   "source": [
    "MFD = dists(X, mf_cps)"
   ]
  },
  {
   "cell_type": "code",
   "execution_count": 9,
   "id": "6c4a8025-0e78-47dc-9a7e-c62212ff6b6a",
   "metadata": {},
   "outputs": [
    {
     "data": {
      "text/plain": [
       "1196×1196 Matrix{Float64}:\n",
       " 0.0       0.437727  0.457129  0.252255  …  0.342227  0.215945  0.132695\n",
       " 0.437727  0.0       0.119469  0.367375     0.550749  0.467616  0.438703\n",
       " 0.457129  0.119469  0.0       0.380034     0.56681   0.486462  0.45691\n",
       " 0.252255  0.367375  0.380034  0.0          0.411432  0.304372  0.251818\n",
       " 0.138096  0.444164  0.462172  0.256515     0.345311  0.196333  0.133723\n",
       " 0.137242  0.448065  0.46693   0.258261  …  0.344407  0.211686  0.132381\n",
       " 0.292249  0.455572  0.470242  0.341588     0.434887  0.378292  0.290561\n",
       " 0.470301  0.496914  0.496626  0.47951      0.592686  0.520329  0.474611\n",
       " 0.438486  0.52192   0.524985  0.463337     0.550563  0.492007  0.441856\n",
       " 0.506408  0.503791  0.497887  0.497597     0.602789  0.541376  0.511342\n",
       " 0.522226  0.463664  0.455699  0.504253  …  0.62141   0.567041  0.526229\n",
       " 0.438146  0.560866  0.567277  0.477919     0.547229  0.469751  0.443917\n",
       " 0.430271  0.574514  0.575335  0.475325     0.537457  0.477153  0.434087\n",
       " ⋮                                       ⋱                      ⋮\n",
       " 0.326347  0.523262  0.538356  0.39335      0.14187   0.317398  0.325156\n",
       " 0.349044  0.553482  0.569069  0.417845  …  0.162773  0.313795  0.348807\n",
       " 0.338493  0.560626  0.576522  0.409463     0.147587  0.31648   0.337775\n",
       " 0.31861   0.533506  0.544026  0.395479     0.142121  0.31761   0.316773\n",
       " 0.342514  0.551575  0.567605  0.410564     0.14899   0.352641  0.340752\n",
       " 0.362745  0.555142  0.575918  0.423469     0.177432  0.312926  0.363142\n",
       " 0.475317  0.406356  0.427452  0.4365    …  0.386251  0.443885  0.477567\n",
       " 0.506964  0.313083  0.329006  0.46036      0.441668  0.498275  0.509559\n",
       " 0.390719  0.410348  0.435354  0.379803     0.29366   0.372317  0.392858\n",
       " 0.342227  0.550749  0.56681   0.411432     0.0       0.326216  0.341544\n",
       " 0.215945  0.467616  0.486462  0.304372     0.326216  0.0       0.214578\n",
       " 0.132695  0.438703  0.45691   0.251818  …  0.341544  0.214578  0.0"
      ]
     },
     "execution_count": 9,
     "metadata": {},
     "output_type": "execute_result"
    }
   ],
   "source": [
    "SIMPLED = readdlm(\"/home/dcg/projects/DPA/vdp_seg_simple_dists.txt\")\n",
    "BarTD = readdlm(\"/home/dcg/projects/DPA/vdp_seg_bart_dists.txt\")\n",
    "MFD = readdlm(\"/home/dcg/projects/DPA/vdp_seg_mf_dists.txt\")"
   ]
  },
  {
   "cell_type": "code",
   "execution_count": 10,
   "id": "9abd194e-bd19-4a5d-a2d6-7f222a3e6eaf",
   "metadata": {},
   "outputs": [
    {
     "data": {
      "text/plain": [
       "CairoMakie.Screen{IMAGE}\n"
      ]
     },
     "execution_count": 10,
     "metadata": {},
     "output_type": "execute_result"
    }
   ],
   "source": [
    "function get_dp_stats(D; q=0.02, seg_lengths=nothing)\n",
    "    N, _ = size(D)\n",
    "    dc = quantile!([D[i,j] for i=1:N, j=1:N if i > j], q)\n",
    "    if isnothing(seg_lengths)\n",
    "        ρ = hcat(collect(1:N), [length(row[row .<= dc]) for row in eachrow(D)])\n",
    "    else\n",
    "        ρ = hcat(collect(1:N), [sum(seg_lengths .* exp.(-(D[i,:] / dc).^2)) for i in 1:N])\n",
    "    end\n",
    "    δ = zeros(N)\n",
    "    nearest_denser_neighbor = zeros(N)\n",
    "    for i=1:N\n",
    "        indices = convert(Array{Int32},filter!(idx -> idx ∉ [i], ρ[ρ[:,2] .>= ρ[i, 2],:][:,1]))\n",
    "        if length(indices) > 0\n",
    "            δ[i] = minimum(D[indices, i])\n",
    "            nearest_denser_neighbor[i] = argmin(D[indices, i])\n",
    "        else\n",
    "            δ[i] = maximum(D[:,i])\n",
    "            nearest_denser_neighbor[i] = i\n",
    "        end\n",
    "    end\n",
    "    γ = ρ[:,2] .* δ\n",
    "    return (ρ, δ, γ)\n",
    "end\n",
    "\n",
    "bart_segment_lengths = [bart_cps[T+1] - bart_cps[T] for T in 1:length(bart_cps) - 1]\n",
    "mf_segment_lengths = [mf_cps[T+1] - mf_cps[T] for T in 1:length(mf_cps) - 1]\n",
    "jd_segment_lengths = [jd_cps[T+1] - jd_cps[T] for T in 1:length(jd_cps) - 1]\n",
    "\n",
    "lengths = [jd_segment_lengths, bart_segment_lengths, mf_segment_lengths]\n",
    "\n",
    "fig = Figure(size=(900, 900))\n",
    "\n",
    "title = [\"SIMPLE\", \"BarT\", \"MF\"]\n",
    "dist_mat = [\n",
    "    SIMPLED,\n",
    "    BarTD,\n",
    "    MFD\n",
    "]\n",
    "\n",
    "for i=1:3\n",
    "    ax1 = Axis(fig[i, 1])\n",
    "    ax2 = Axis(fig[i, 2])\n",
    "    ax3 = Axis(fig[i, 3])\n",
    "\n",
    "    ax1.title = \"$(title[i]) ρ,δ\"\n",
    "    ax2.title = \"$(title[i]) γ\"\n",
    "    ax3.title = \"$(title[i]), logγ\"\n",
    "    ρ, δ, γ = get_dp_stats(dist_mat[i], seg_lengths=lengths[i])\n",
    "    scatter!(ax1, ρ[:,2], δ)\n",
    "    ax1.xlabel = \"ρ\"\n",
    "    ax1.ylabel = \"δ\" \n",
    "    ax2.xlabel = \"Rank\"\n",
    "    ax2.ylabel = \"γ\" \n",
    "    ax3.xlabel = \"Rank\"\n",
    "    ax3.ylabel = \"log γ\"\n",
    "    markersize=5\n",
    "    scatter!(ax1, ρ[:,2], δ, markersize=markersize)\n",
    "    scatter!(ax2, 1:length(γ), sort!(γ), markersize=markersize)\n",
    "    scatter!(ax3, 1:length(γ), log.(γ),markersize=markersize)\n",
    "end\n",
    "\n",
    "save(\"vdp-dc.png\", fig)"
   ]
  },
  {
   "cell_type": "code",
   "execution_count": null,
   "id": "62b5d4b8-0132-4ba6-b62d-fab730d01c65",
   "metadata": {},
   "outputs": [],
   "source": [
    "open(\"/home/dcg/projects/DPA/vdp_seg_simple_dists.txt\", \"w\") do io\n",
    "        writedlm(io, SIMPLED)\n",
    "end\n",
    "open(\"/home/dcg/projects/DPA/vdp_seg_bart_dists.txt\", \"w\") do io\n",
    "        writedlm(io, BarTD)\n",
    "end\n",
    "open(\"/home/dcg/projects/DPA/vdp_seg_mf_dists.txt\", \"w\") do io\n",
    "        writedlm(io, MFD)\n",
    "end"
   ]
  },
  {
   "cell_type": "code",
   "execution_count": 11,
   "id": "7f7dade9-63b8-466f-9feb-5fcdc53a4fcc",
   "metadata": {},
   "outputs": [],
   "source": [
    "#seg_labels = get_clusters(X, jd_cps, D, 10)\n",
    "using StatsBase\n",
    "#simple_seg_labels = convert(Array{Int32}, readdlm(\"/home/dcg/projects/DPA/vdp_seg_simple_dpa_labels.txt\"))[:,1]\n",
    "#simple_pt_labels = label_series(X, jd_cps, simple_seg_labels)\n",
    "bart_seg_labels = convert(Array{Int32}, readdlm(\"/home/dcg/projects/DPA/vdp_seg_bart_dists_dpa_labels.txt\"))[:,1]\n",
    "bart_pt_labels = label_series(X, bart_cps, bart_seg_labels)\n",
    "mf_seg_labels = convert(Array{Int32}, readdlm(\"/home/dcg/projects/DPA/vdp_seg_mf_dists_dpa_labels.txt\"))[:,1]\n",
    "mf_pt_labels = label_series(X, mf_cps, mf_seg_labels)\n",
    "\n",
    "point_labels = [bart_pt_labels, mf_pt_labels]\n",
    "titles = [\"BarT\", \"MF\"]\n",
    "function relabel_by_frequency(l)\n",
    "    # Count the frequency of each label\n",
    "    freq_dict = Dict{eltype(l), Int}()\n",
    "    for label in l\n",
    "        freq_dict[label] = get(freq_dict, label, 0) + 1\n",
    "    end\n",
    "    \n",
    "    # Sort labels by their frequency (most frequent first)\n",
    "    sorted_labels = sort(collect(keys(freq_dict)), by=x->freq_dict[x], rev=true)\n",
    "    \n",
    "    # Create mapping from original labels to new labels (0, 1, 2, ...)\n",
    "    label_map = Dict(label => i-1 for (i, label) in enumerate(sorted_labels))\n",
    "    \n",
    "    # Create the new label array\n",
    "    k = [label_map[label] for label in l]\n",
    "    \n",
    "    return k\n",
    "end\n",
    "mf_pt_labels = relabel_by_frequency(mf_pt_labels)\n",
    "bart_pt_labels = relabel_by_frequency(bart_pt_labels)\n",
    "\n",
    "\n",
    "for i=1:2\n",
    "    #freq = countmap(pt_labels)\n",
    "    cmap = :rainbow\n",
    "    f = Figure()\n",
    "    #Label(f[1,1], \"Valine Dipeptide Clustered with CATBOSS (SIMPLE) Segments\")\n",
    "    Label(f[1,1], \"VDP Advanced DP Clustered with $(titles[i]) Segments\")\n",
    "    scatter(\n",
    "        f[2, 1], \n",
    "        (360 .* X) .- 180, \n",
    "        color=point_labels[i], \n",
    "        colormap=cmap, \n",
    "        markersize = 1, \n",
    "        #fxaa = true, \n",
    "        #depthsorting=true, \n",
    "        #transparency=true,\n",
    "    )\n",
    "f\n",
    "save(\"$(titles[i])-vdp.png\", f)\n",
    "end\n"
   ]
  },
  {
   "cell_type": "code",
   "execution_count": null,
   "id": "9dab388b-2cda-4770-8574-5c7544df35ab",
   "metadata": {},
   "outputs": [],
   "source": [
    "function draw_decision_graph(D; q=0.02, seg_lengths=nothing)\n",
    "    N, _ = size(D)\n",
    "    dc = quantile!([D[i,j] for i=1:N, j=1:N if i > j], q)\n",
    "    if isnothing(seg_lengths)\n",
    "        ρ = hcat(collect(1:N), [length(row[row .<= dc]) for row in eachrow(D)])\n",
    "    else\n",
    "        ρ = hcat(collect(1:N), [sum(seg_lengths .* exp.(-(D[i,:] / dc).^2)) for i in 1:N])\n",
    "    end\n",
    "    δ = zeros(N)\n",
    "    nearest_denser_neighbor = zeros(N)\n",
    "    for i=1:N\n",
    "        indices = convert(Array{Int32},filter!(idx -> idx ∉ [i], ρ[ρ[:,2] .>= ρ[i, 2],:][:,1]))\n",
    "        if length(indices) > 0\n",
    "            δ[i] = minimum(D[indices, i])\n",
    "            nearest_denser_neighbor[i] = argmin(D[indices, i])\n",
    "        else\n",
    "            δ[i] = maximum(D[:,i])\n",
    "            nearest_denser_neighbor[i] = i\n",
    "        end\n",
    "    end\n",
    "    γ = ρ[:,2] .* δ\n",
    "    fig = Figure(size=(1500, 500))\n",
    "    ax1 = Axis(fig[1,1], title=\"ρ-δ Plot\", xlabel=\"ρ\", ylabel=\"δ\")\n",
    "    ax2 = Axis(fig[1,2], title=\"γ Plot\", xlabel=\"Rank\", ylabel=\"γ\")\n",
    "    ax3 = Axis(fig[1,3], title=\"log γ Plot\", xlabel=\"Rank\", ylabel=\"γ\")\n",
    "\n",
    "    markersize = 4\n",
    "    scatter!(ax1, ρ[:,2], δ, markersize=markersize)\n",
    "    scatter!(ax2, 1:length(γ), sort!(γ), markersize=markersize)\n",
    "    scatter!(ax3, 1:length(γ), log.(sort!(γ)), markersize=markersize)\n",
    "    fig\n",
    "end\n",
    "\n",
    "\n",
    "segment_lengths = [jd_cps[T+1] - jd_cps[T] for T in 1:length(jd_cps) - 1]\n",
    "draw_decision_graph(D, seg_lengths=segment_lengths)"
   ]
  },
  {
   "cell_type": "code",
   "execution_count": null,
   "id": "d4b90b62-c145-4766-b525-b500e6a4372d",
   "metadata": {},
   "outputs": [],
   "source": [
    "f = Figure(size=(1000,1000))\n",
    "hist!(Axis(f[1,1],xticks=0:2:120,xticklabelrotation=45.0),seg_labels[:,1],bins=120)\n",
    "\n",
    "f"
   ]
  },
  {
   "cell_type": "code",
   "execution_count": null,
   "id": "ebda5c2e-ab4d-41ae-b5f9-1d2e913debad",
   "metadata": {},
   "outputs": [],
   "source": [
    "x1_cps_bart = convert(Array{Int32}, readdlm(\"../data/VDP/vdp_cps_x1.txt\")) .+ 1\n",
    "x2_cps_bart = convert(Array{Int32}, readdlm(\"../data/VDP/vdp_cps_x2.txt\")) .+ 1\n",
    "x3_cps_bart = convert(Array{Int32}, readdlm(\"../data/VDP/vdp_cps_x3.txt\")) .+ 1\n",
    "\n",
    "function lazy_cluster_1d(data, cps, N)\n",
    "    c(x,y) = peuclidean(x,y,1.0).^2\n",
    "    dists = pairwise_segment_distances_1d(data, cps, c)\n",
    "    labels = get_clusters(data, cps, dists, N)\n",
    "    pt_labels = label_series(data, cps, labels)\n",
    "    return pt_labels\n",
    "end\n",
    "\n",
    "\n",
    "x1_cps_bart = x1_cps_bart[1:findfirst(x -> x > T, x1_cps_bart)[1] - 1]\n",
    "x2_cps_bart = x2_cps_bart[1:findfirst(x -> x > T, x2_cps_bart)[1] - 1]\n",
    "x3_cps_bart = x3_cps_bart[1:findfirst(x -> x > T, x3_cps_bart)[1] - 1]\n",
    "x1_labels_bart = lazy_cluster_1d(X[:,1], x1_cps_bart, N[1])\n",
    "x2_labels_bart = lazy_cluster_1d(X[:,2], x2_cps_bart, N[2])\n",
    "x3_labels_bart = lazy_cluster_1d(X[:,3], x3_cps_bart, N[3])"
   ]
  },
  {
   "cell_type": "code",
   "execution_count": null,
   "id": "1c5ea0f1-7175-48fa-960d-7abbd454f286",
   "metadata": {},
   "outputs": [],
   "source": [
    "fig_size = (2000,1200)\n",
    "fig = Figure(size=fig_size)\n",
    "cmap=Makie.Categorical(:jet1)\n",
    "\n",
    "ax1 = Axis(fig[1,1])\n",
    "ax2 = Axis(fig[2,1])\n",
    "ax3 = Axis(fig[3,1])\n",
    "ax1.title=\"Valine Diepeptide Angle φ Segmented via Megafauna\"\n",
    "ax2.title=\"Valine Diepeptide Angle ψ Segmented via Megafauna\"\n",
    "ax3.title=\"Valine Diepeptide Angle χ Segmented via Megafauna\"\n",
    "\n",
    "ax1.xlabel=ax2.xlabel=ax3.xlabel=\"t\"\n",
    "ax1.ylabel=ax2.ylabel=\"x(t)\"\n",
    "ax1.xticks=ax2.xticks=ax3.xticks=0:(T ÷ 25):T\n",
    "ax1.xtickformat=ax2.xtickformat=ax3.xtickformat=\"{:.0f}\"\n",
    "ax1.yticks=ax2.yticks=0:0.1:1\n",
    "\n",
    "vlines!(ax1,x1_cps[:,1], linestyle=:dashdot, linewidth=1)\n",
    "vlines!(ax2,x2_cps[:,1], linestyle=:dashdot, linewidth=1)\n",
    "vlines!(ax3,x3_cps[:,1], linestyle=:dashdot, linewidth=1)\n",
    "\n",
    "scatter!(ax1, 1:T, X[:,1], color=x1_labels, colormap=cmap, markersize=2)\n",
    "scatter!(ax2, 1:T, X[:,2], color=x2_labels, colormap=cmap, markersize=2)\n",
    "scatter!(ax3, 1:T, X[:,3], color=x3_labels, colormap=cmap, markersize=2)\n",
    "\n",
    "current_figure()"
   ]
  },
  {
   "cell_type": "code",
   "execution_count": null,
   "id": "0f8afeeb-c7f1-4ff2-a8bf-c425d22ca467",
   "metadata": {},
   "outputs": [],
   "source": [
    "save(\"valine-anglewise-mf.png\", fig)"
   ]
  },
  {
   "cell_type": "code",
   "execution_count": null,
   "id": "340aec17-2663-4518-9158-24fe04f0b4be",
   "metadata": {},
   "outputs": [],
   "source": [
    "Y = cat(x1_labels, x2_labels, x3_labels, dims=2)\n",
    "dummy_vec = [10^i for i in range(2, 0; step=-1)]'\n",
    "series_labels = [dummy_vec * Y[t,:] for t in 1:T]\n",
    "unique_labels = unique(series_labels)\n",
    "labels = [findfirst(idx -> idx == label, unique_labels) for label in series_labels];\n",
    "\n",
    "f = Figure()\n",
    "Label(f[1,1], \"Valine Dipeptide Clustered Componentwise\")\n",
    "scatter(f[2, 1], X, color=labels, colormap=cmap, markersize = 2, fxaa = true, depthsorting=true, transparency=true)\n",
    "f"
   ]
  },
  {
   "cell_type": "code",
   "execution_count": null,
   "id": "3dcde4c0-a265-4074-bb94-2fbeaab95c1e",
   "metadata": {},
   "outputs": [],
   "source": [
    "save(\"valine-joint-clustering.png\", f)"
   ]
  },
  {
   "cell_type": "code",
   "execution_count": null,
   "id": "9de6c4c3-f37f-4a8b-8939-46e33ca4e5c1",
   "metadata": {},
   "outputs": [],
   "source": [
    "d = 3\n",
    "cps = x3_cps\n",
    "segment_lengths = [cps[T+1] - cps[T] for T in 1:length(cps) - 1]\n",
    "idx = sortperm(segment_lengths, rev=true);\n",
    "fig = Figure(size=(1500, 1500))\n",
    "for i = 1:2\n",
    "T = idx[i]\n",
    "segment = X[cps[T]:cps[T+1],d]\n",
    "U = fit_mle(Normal, segment)\n",
    "V = fit_mle(Laplace, segment)\n",
    "W = fit_mle(Uniform, segment)\n",
    "Uks = ExactOneSampleKSTest(segment, U)\n",
    "Vks = ExactOneSampleKSTest(segment, V)\n",
    "t = collect(range(minimum(segment), maximum(segment), length=1000))\n",
    "ax = Axis(fig[i,1], title=\"Kolmogorov-Smirnov Test for segment #$(T)\\n# Samples: $(length(segment))\\nHypothesis: Laplace Distribution\\np-value: $(round(pvalue(Vks),digits=3))\", ylabel=\"CDF\")\n",
    "ax2 = Axis(fig[i,2], title=\"Kolmogorov-Smirnov Test for segment #$(T)\\n# Samples: $(length(segment))\\nHypothesis: Normal Distribution\\np-value: $(round(pvalue(Uks),digits=3))\", ylabel=\"CDF\")\n",
    "lines!(ax, t, cdf.(V,t), color=\"blue\")\n",
    "lines!(ax, sort(segment), (1:length(segment))./length(segment),color=\"red\")\n",
    "lines!(ax2, t, cdf.(U,t), color=\"blue\")\n",
    "lines!(ax2, sort(segment), (1:length(segment))./length(segment),color=\"red\")\n",
    "end\n",
    "current_figure()"
   ]
  },
  {
   "cell_type": "code",
   "execution_count": null,
   "id": "3e89143a-6359-45bc-8159-05cae24f8d01",
   "metadata": {},
   "outputs": [],
   "source": [
    "d = 1\n",
    "angles = [\"φ\", \"ψ\", \"χ\"]\n",
    "cps = x1_cps\n",
    "segment_lengths = [cps[T+1] - cps[T] for T in 1:length(cps) - 1]\n",
    "idx = sortperm(segment_lengths, rev=true);\n",
    "fig = Figure(size=(1500, 1500))\n",
    "for i = 1:2\n",
    "T = idx[i]\n",
    "segment = X[x1_cps[T]:x1_cps[T+1],d]\n",
    "U = fit_mle(Normal, segment)\n",
    "V = fit_mle(Laplace, segment)\n",
    "Uks = ExactOneSampleKSTest(segment, U)\n",
    "Vks = ExactOneSampleKSTest(segment, V)\n",
    "t = collect(range(minimum(segment), maximum(segment), length=1000))\n",
    "ax = Axis(fig[i,1], title=\"Kolmogorov-Smirnov Test for angle $(angles[d]), segment #$(T)\\n# Samples: $(length(segment))\\nHypothesis: Laplace Distribution\\np-value: $(round(pvalue(Vks),digits=3))\", ylabel=\"CDF\")\n",
    "ax2 = Axis(fig[i,2], title=\"Kolmogorov-Smirnov Test for angle $(angles[d]), segment #$(T)\\n# Samples: $(length(segment))\\nHypothesis: Normal Distribution\\np-value: $(round(pvalue(Uks),digits=3))\", ylabel=\"CDF\")\n",
    "lines!(ax, t, cdf.(V,t), color=\"blue\")\n",
    "lines!(ax, sort(segment), (1:length(segment))./length(segment),color=\"red\")\n",
    "lines!(ax2, t, cdf.(U,t), color=\"blue\")\n",
    "lines!(ax2, sort(segment), (1:length(segment))./length(segment),color=\"red\")\n",
    "\n",
    "elem_1 = [LineElement(color = :red, linestyle = nothing)]\n",
    "elem_2 = [LineElement(color = :blue, linestyle = nothing)]\n",
    "\n",
    "if i == 1\n",
    "    axislegend(ax,\n",
    "        [elem_1, elem_2],\n",
    "        [\"Empirical CDF\", \"Hypothesis CDF\"],\n",
    "        patchsize = (5, 5), rowgap = 1, position=:lt)\n",
    "    end\n",
    "end\n",
    "current_figure()\n",
    "\n",
    "save(\"valine-x$(d)-KStest.png\", fig)"
   ]
  },
  {
   "cell_type": "code",
   "execution_count": null,
   "id": "f4c7babc-7944-4413-886c-8382f0fce0d4",
   "metadata": {},
   "outputs": [],
   "source": [
    "function draw_decision_graph(D; q=0.02, seg_lengths=nothing)\n",
    "    N, _ = size(D)\n",
    "    dc = quantile!([D[i,j] for i=1:N, j=1:N if i > j], q)\n",
    "    if isnothing(seg_lengths)\n",
    "        ρ = hcat(collect(1:N), [length(row[row .<= dc]) for row in eachrow(D)])\n",
    "    else\n",
    "        ρ = hcat(collect(1:N), [sum(seg_lengths .* exp.(-(D[i,:] / dc).^2)) for i in 1:N])\n",
    "    end\n",
    "    δ = zeros(N)\n",
    "    nearest_denser_neighbor = zeros(N)\n",
    "    for i=1:N\n",
    "        indices = convert(Array{Int32},filter!(idx -> idx ∉ [i], ρ[ρ[:,2] .>= ρ[i, 2],:][:,1]))\n",
    "        if length(indices) > 0\n",
    "            δ[i] = minimum(D[indices, i])\n",
    "            nearest_denser_neighbor[i] = argmin(D[indices, i])\n",
    "        else\n",
    "            δ[i] = maximum(D[:,i])\n",
    "            nearest_denser_neighbor[i] = i\n",
    "        end\n",
    "    end\n",
    "    γ = ρ[:,2] .* δ\n",
    "    #fig = Figure(size=(1000, 500))\n",
    "    #ax1 = Axis(fig[1,1], title=\"ρ-δ Plot\", xlabel=\"ρ\", ylabel=\"δ\")\n",
    "    #ax2 = Axis(fig[1,2], title=\"γ Plot\", xlabel=\"Rank\", ylabel=\"γ\")\n",
    "    #scatter!(ax1, ρ[:,2], δ)\n",
    "    #scatter!(ax2, 1:length(γ), sort!(γ))\n",
    "    return γ\n",
    "end\n",
    "\n",
    "c(x,y) = peuclidean(x,y,1.0).^2\n",
    "x1_lengths = [x1_cps[T+1] - x1_cps[T] for T in 1:length(x1_cps) - 1]\n",
    "x2_lengths = [x2_cps[T+1] - x2_cps[T] for T in 1:length(x2_cps) - 1]\n",
    "x3_lengths = [x3_cps[T+1] - x3_cps[T] for T in 1:length(x3_cps) - 1]\n",
    "\n",
    "\n",
    "fig=Figure(size=(1500,500))\n",
    "\n",
    "ax1 = Axis(fig[1,1])\n",
    "ax2 = Axis(fig[1,2])\n",
    "ax3 = Axis(fig[1,3])\n",
    "ax1.title=\"Valine Diepeptide Angle φ Decision Graph\"\n",
    "ax2.title=\"Valine Diepeptide Angle ψ Decision Graph\"\n",
    "ax3.title=\"Valine Diepeptide Angle χ Decision Graph\"\n",
    "ax1.xlabel=ax2.xlabel=ax3.xlabel=\"Rank\"\n",
    "ax1.ylabel=ax2.ylabel=ax3.ylabel=\"γ\"\n",
    "γ1 = draw_decision_graph(pairwise_segment_distances_1d(X[:,1], x1_cps, c), seg_lengths=x1_lengths)\n",
    "γ2 = draw_decision_graph(pairwise_segment_distances_1d(X[:,2], x2_cps, c), seg_lengths=x2_lengths)\n",
    "γ3 = draw_decision_graph(pairwise_segment_distances_1d(X[:,3], x3_cps, c), seg_lengths=x3_lengths)\n",
    "\n",
    "scatter!(ax1, 1:length(γ1), sort!(γ1))\n",
    "scatter!(ax2, 1:length(γ2), sort!(γ2))\n",
    "scatter!(ax3, 1:length(γ3), sort!(γ3))\n",
    "current_figure()\n"
   ]
  },
  {
   "cell_type": "code",
   "execution_count": null,
   "id": "f37ead9f-c6f0-4dde-b000-7e0bc4844db5",
   "metadata": {},
   "outputs": [],
   "source": [
    "save(\"valine-decision-graphs.png\", fig)"
   ]
  },
  {
   "cell_type": "code",
   "execution_count": null,
   "id": "1a5d97c7-2a40-44e1-86f8-3faddaad2987",
   "metadata": {},
   "outputs": [],
   "source": [
    "function identify_transitions(X, cps)\n",
    "    N = length(cps) - 1\n",
    "    t1, t2, t3, t4 = cps[1], cps[2], cps[3], cps[4]\n",
    "    predecessor = X[t1:t2]\n",
    "    current = X[t2:t3]\n",
    "    successor = X[t3:t4]\n",
    "    m_pred, σ_pred = median(predecessor), std(predecessor)\n",
    "    m_curr, σ_curr = median(current), std(current)\n",
    "    m_succ, σ_succ = median(successor), std(successor)\n",
    "    transition_labels = zeros(N)\n",
    "    mstable_stats = zeros(N)\n",
    "    trans_stats = zeros(N)\n",
    "    for i = 2:N-1\n",
    "        metalike = 0\n",
    "        translike = 0\n",
    "        L = length(current)\n",
    "        for (idx, x) in enumerate(current)\n",
    "            λ = idx / (L + 1)\n",
    "            μ = λ * median(successor) + (1 - λ) * median(predecessor)\n",
    "            ρ = λ * std(successor) + (1 - λ) * std(predecessor)\n",
    "            metalike -= log(2* σ_curr) + (abs(x - m_curr) / σ_curr)\n",
    "            translike -= log(2 * ρ) + (abs(x - μ) / ρ)\n",
    "        end\n",
    "        mstable_stats[i] = metalike \n",
    "        trans_stats[i] = translike\n",
    "        transition_labels[i] = metalike > translike ? 0 : 1\n",
    "        if i == N - 1\n",
    "            break\n",
    "        end\n",
    "        predecessor = current\n",
    "        current = successor\n",
    "        successor = X[cps[i+2]:cps[i+3]]\n",
    "        m_pred, σ_pred = m_curr, σ_curr\n",
    "        m_curr, σ_curr = m_succ, σ_succ\n",
    "        m_succ, σ_succ = median(successor), std(successor)\n",
    "    end\n",
    "    return (transition_labels, mstable_stats, trans_stats)\n",
    "end\n",
    "\n",
    "x1_segment_transition_labels, x1_segment_mstable_stats, x1_segment_trans_stats = identify_transitions(X[:,1], x1_cps);\n",
    "x2_segment_transition_labels, x2_segment_mstable_stats, x2_segment_trans_stats = identify_transitions(X[:,2], x2_cps);\n",
    "x3_segment_transition_labels, x3_segment_mstable_stats, x3_segment_trans_stats = identify_transitions(X[:,3], x3_cps);"
   ]
  },
  {
   "cell_type": "code",
   "execution_count": null,
   "id": "71466a7a-2f9a-4527-8267-d66431985207",
   "metadata": {},
   "outputs": [],
   "source": [
    "    \n",
    "N = length(x3_cps) - 1\n",
    "laplace_pvalues = []\n",
    "normal_pvalues = []\n",
    "mstable_lengths = []\n",
    "n_mstable = 0\n",
    "\n",
    "for i=1:N\n",
    "    if x3_segment_transition_labels[i] > 0\n",
    "        continue\n",
    "    end\n",
    "    n_mstable += 1\n",
    "    segment = X[x3_cps[i]:x3_cps[i+1],3]\n",
    "    push!(mstable_lengths, length(segment))\n",
    "    Z = fit_mle(Laplace, segment)\n",
    "    Zprime = fit_mle(Normal, segment)\n",
    "    push!(laplace_pvalues, pvalue(ExactOneSampleKSTest(segment, Z)))\n",
    "    push!(normal_pvalues, pvalue(ExactOneSampleKSTest(segment, Zprime)))\n",
    "end\n",
    "\n",
    "println(\"Number of metastable segments: $n_mstable\")\n",
    "println(\"Percentage of metastable segments that reject the Laplace hypothesis \n",
    "    $(1 - count(>(0.05), laplace_pvalues) / n_mstable))\")\n",
    "println(\"Median length of metsatsble segments $(median(mstable_lengths))\")\n",
    "println(\"IQR of length of metastable segments $(quantile(mstable_lengths, 0.75) - quantile(mstable_lengths, 0.25))\")\n",
    "println(\"Percentage of metastable segments that reject the Normal hypothesis \n",
    "    $(1 - (count(>(0.05), normal_pvalues)) / n_mstable )\")\n"
   ]
  },
  {
   "cell_type": "code",
   "execution_count": null,
   "id": "a2e1d60b-837e-4bcb-b4eb-503cd95cc696",
   "metadata": {},
   "outputs": [],
   "source": []
  }
 ],
 "metadata": {
  "kernelspec": {
   "display_name": "Julia 1.11.3",
   "language": "julia",
   "name": "julia-1.11"
  },
  "language_info": {
   "file_extension": ".jl",
   "mimetype": "application/julia",
   "name": "julia",
   "version": "1.11.3"
  }
 },
 "nbformat": 4,
 "nbformat_minor": 5
}
