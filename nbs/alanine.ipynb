{
 "cells": [
  {
   "cell_type": "code",
   "execution_count": 1,
   "id": "1a966d9c-bd78-422e-8fa5-ca1799babc5a",
   "metadata": {},
   "outputs": [],
   "source": [
    "using LinearRegression\n",
    "using Statistics\n",
    "using CairoMakie\n",
    "using DelimitedFiles\n",
    "using Megafauna\n",
    "using Distances\n",
    "using HypothesisTests\n",
    "include(\"../src/SegmentDistances.jl\")\n",
    "include(\"../src/DPC.jl\")\n",
    "include(\"../src/ChangePoints.jl\")\n",
    "\n",
    "using OptimalTransport\n",
    "using ProgressMeter\n",
    "using Distributed"
   ]
  },
  {
   "cell_type": "code",
   "execution_count": 2,
   "id": "74dba291-eaf3-4ace-a3e3-8751190ea172",
   "metadata": {},
   "outputs": [
    {
     "name": "stdout",
     "output_type": "stream",
     "text": [
      "enumerating change points\n",
      "number of dimensions: 1\n",
      "enumerating change points\n",
      "number of dimensions: 1\n"
     ]
    }
   ],
   "source": [
    "T = 150000\n",
    "X_shifted = readdlm(\"../data/ADP/A_2D_1ps_shifted.dat\")[1:T, :] ./ 360\n",
    "X = (readdlm(\"../data/ADP/A_2D_1ps.dat\")[1:T,:] .+ 180) ./ 360\n",
    "Q = [0.7 0.7]\n",
    "W = [50 50]\n",
    "N = [3 3]\n",
    "\n",
    "\n",
    "x1_cps = compute_change_points_periodic(X[:,1], Q[1], W[1])\n",
    "x2_cps = compute_change_points_periodic(X[:,2], Q[2], W[2])\n",
    "x1_cps = [t ∈ x1_cps ? 1 : 0 for t=1:T]\n",
    "x2_cps = [t ∈ x2_cps ? 1 : 0 for t=1:T]\n",
    "\n",
    "mf_cps = findall(x -> any( y -> y > 0, x), eachrow(cat(x1_cps, x2_cps, dims=2)))\n",
    "jd_cps = findall(x -> any(y -> y > 0, x), eachrow(readdlm(\"../data/ADP/A_2D_1ps_shifted.lam10.0alpha0.7.transitionProba.dat\")[1:T,2:3]));"
   ]
  },
  {
   "cell_type": "code",
   "execution_count": 3,
   "id": "5f617e56-f8da-49a9-a61b-3a109d0881a5",
   "metadata": {},
   "outputs": [
    {
     "data": {
      "text/plain": [
       "8297-element Vector{Int32}:\n",
       "      1\n",
       "      7\n",
       "     17\n",
       "     24\n",
       "    105\n",
       "    114\n",
       "    125\n",
       "    138\n",
       "    143\n",
       "    166\n",
       "    314\n",
       "    318\n",
       "    327\n",
       "      ⋮\n",
       " 149906\n",
       " 149917\n",
       " 149925\n",
       " 149926\n",
       " 149928\n",
       " 149944\n",
       " 149950\n",
       " 149986\n",
       " 149990\n",
       " 149991\n",
       " 149999\n",
       " 150000"
      ]
     },
     "execution_count": 3,
     "metadata": {},
     "output_type": "execute_result"
    }
   ],
   "source": [
    "bart_cps = convert(Array{Int32}, readdlm(\"../data/ADP/bart-cps/BART_adp_cps_full.txt\"))\n",
    "bart_cps[1] = 1\n",
    "bart_cps = bart_cps[1:findfirst(x -> x > T, bart_cps)[1] - 1]"
   ]
  },
  {
   "cell_type": "code",
   "execution_count": 4,
   "id": "2b74b1e2-f791-4e64-9618-850da35db097",
   "metadata": {},
   "outputs": [
    {
     "name": "stdout",
     "output_type": "stream",
     "text": [
      "7583\n"
     ]
    },
    {
     "name": "stderr",
     "output_type": "stream",
     "text": [
      "\u001b[32mProgress: 100%|█████████████████████████████████████████| Time: 0:04:29\u001b[39m\n"
     ]
    },
    {
     "data": {
      "text/plain": [
       "7583×7583 Matrix{Float64}:\n",
       " 0.0       0.173856  0.11535   0.453409  …  0.460663  0.467432  0.266259\n",
       " 0.173856  0.0       0.197283  0.33992      0.356822  0.374397  0.225154\n",
       " 0.11535   0.197283  0.0       0.450599     0.447041  0.458957  0.290236\n",
       " 0.453409  0.33992   0.450599  0.0          0.134636  0.277039  0.331262\n",
       " 0.501361  0.406571  0.495231  0.244103     0.236316  0.17855   0.306327\n",
       " 0.477835  0.35829   0.461718  0.127283  …  0.11826   0.271706  0.347349\n",
       " 0.483425  0.380466  0.477119  0.199635     0.192131  0.183815  0.299344\n",
       " 0.454546  0.342077  0.446943  0.127142     0.124657  0.274959  0.336376\n",
       " 0.457118  0.360614  0.460032  0.225096     0.225427  0.169644  0.260187\n",
       " 0.256866  0.212185  0.280108  0.322621     0.346338  0.284899  0.145757\n",
       " 0.453421  0.341262  0.447808  0.116964  …  0.113344  0.271846  0.334716\n",
       " 0.443044  0.347625  0.438078  0.225348     0.227257  0.177338  0.258604\n",
       " 0.245671  0.201336  0.270419  0.31425      0.340401  0.29358   0.152013\n",
       " ⋮                                       ⋱  ⋮                   \n",
       " 0.458162  0.347084  0.451357  0.136246     0.130636  0.25408   0.326448\n",
       " 0.207261  0.216511  0.220075  0.395071     0.400117  0.380879  0.245064\n",
       " 0.44058   0.325766  0.438593  0.132293     0.13749   0.284964  0.326104\n",
       " 0.210637  0.200733  0.227776  0.373384     0.3789    0.366127  0.22905\n",
       " 0.467991  0.35711   0.456323  0.139037  …  0.131708  0.252711  0.332888\n",
       " 0.484773  0.393751  0.478313  0.247573     0.242222  0.17529   0.295811\n",
       " 0.299404  0.217973  0.310514  0.254977     0.279034  0.283301  0.204808\n",
       " 0.450383  0.34334   0.445794  0.125066     0.120597  0.261239  0.329512\n",
       " 0.489439  0.397672  0.473511  0.212729     0.201519  0.193821  0.321633\n",
       " 0.460663  0.356822  0.447041  0.134636  …  0.0       0.277796  0.353761\n",
       " 0.467432  0.374397  0.458957  0.277039     0.277796  0.0       0.274157\n",
       " 0.266259  0.225154  0.290236  0.331262     0.353761  0.274157  0.0"
      ]
     },
     "execution_count": 4,
     "metadata": {},
     "output_type": "execute_result"
    }
   ],
   "source": [
    "function dists_euc(X, cps)\n",
    "    S = length(cps) - 1\n",
    "    println(S)\n",
    "    D = zeros(S,S)\n",
    "    d = Euclidean()\n",
    "    C(X,Y) = pairwise(d, X', Y')\n",
    "    ε = 0.25\n",
    "    @showprogress for i=1:S, j=1:S\n",
    "        if i > j\n",
    "            t0, t1 = cps[i], cps[i+1]\n",
    "            s0, s1 = cps[j], cps[j+1]\n",
    "            Si, Sj = X[t0:t1,:], X[s0:s1,:]\n",
    "            a, b = fill(1, t1 - t0 + 1) / (t1 - t0 + 1), fill(1, s1 - s0 + 1) / (s1 - s0 + 1)\n",
    "            D[i,j] = D[j,i] = sqrt(sinkhorn2(a, b, C(Si, Sj), ε))\n",
    "        end\n",
    "    end\n",
    "        return D\n",
    "end\n",
    "\n",
    "function dists(X, cps)\n",
    "    S = length(cps) - 1\n",
    "    println(S)\n",
    "    D = zeros(S,S)\n",
    "    d = PeriodicEuclidean([1.0 1.0])\n",
    "    C(X,Y) = pairwise(d, X', Y').^2\n",
    "    ε = 0.25\n",
    "    @showprogress for i=1:S, j=1:S\n",
    "        if i > j\n",
    "            t0, t1 = cps[i], cps[i+1]\n",
    "            s0, s1 = cps[j], cps[j+1]\n",
    "            Si, Sj = X[t0:t1,:], X[s0:s1,:]\n",
    "            a, b = fill(1, t1 - t0 + 1) / (t1 - t0 + 1), fill(1, s1 - s0 + 1) / (s1 - s0 + 1)\n",
    "            D[i,j] = D[j,i] = sqrt(sinkhorn2(a, b, C(Si, Sj), ε))\n",
    "        end\n",
    "    end\n",
    "        return D\n",
    "end\n",
    "\n",
    "SIMPLED = dists(X, jd_cps)"
   ]
  },
  {
   "cell_type": "code",
   "execution_count": 5,
   "id": "71e749a1-dd68-4fa2-bdac-d3d5f51907f8",
   "metadata": {},
   "outputs": [
    {
     "name": "stdout",
     "output_type": "stream",
     "text": [
      "8296\n"
     ]
    },
    {
     "name": "stderr",
     "output_type": "stream",
     "text": [
      "\u001b[32mProgress: 100%|█████████████████████████████████████████| Time: 0:05:44\u001b[39m\n"
     ]
    },
    {
     "data": {
      "text/plain": [
       "8296×8296 Matrix{Float64}:\n",
       " 0.0       0.294107  0.269917  0.350729  …  0.205737   0.291858  0.302667\n",
       " 0.294107  0.0       0.191295  0.163676     0.46651    0.220492  0.143027\n",
       " 0.269917  0.191295  0.0       0.195274     0.416743   0.220596  0.175497\n",
       " 0.350729  0.163676  0.195274  0.0          0.50145    0.237679  0.126408\n",
       " 0.377047  0.171359  0.207448  0.111847     0.508769   0.247932  0.127522\n",
       " 0.290227  0.39101   0.307705  0.406212  …  0.296702   0.355203  0.382934\n",
       " 0.229766  0.463156  0.41578   0.491854     0.099536   0.418822  0.451895\n",
       " 0.283528  0.457019  0.382965  0.469987     0.210608   0.406912  0.439587\n",
       " 0.231839  0.453354  0.396055  0.478249     0.113641   0.407208  0.439537\n",
       " 0.291715  0.436556  0.355921  0.447184     0.236671   0.391097  0.421312\n",
       " 0.241435  0.456551  0.391451  0.479283  …  0.138284   0.408817  0.441756\n",
       " 0.158999  0.269397  0.249812  0.311076     0.287456   0.264899  0.26879\n",
       " 0.136001  0.19783   0.189529  0.243019     0.314049   0.224584  0.195861\n",
       " ⋮                                       ⋱                       ⋮\n",
       " 0.273175  0.218622  0.211638  0.234995     0.397776   0.235143  0.210021\n",
       " 0.274117  0.418634  0.3446    0.428907  …  0.233259   0.372542  0.401705\n",
       " 0.233044  0.4631    0.419469  0.48978      0.0822891  0.417749  0.451286\n",
       " 0.237704  0.470347  0.421088  0.485031     0.0581287  0.414478  0.443903\n",
       " 0.173231  0.317205  0.276625  0.351142     0.247631   0.292477  0.311668\n",
       " 0.27766   0.410979  0.332847  0.425831     0.244753   0.370882  0.400584\n",
       " 0.243659  0.445994  0.398335  0.467076  …  0.126728   0.399804  0.432314\n",
       " 0.306654  0.443636  0.373374  0.448662     0.231983   0.394945  0.424888\n",
       " 0.265945  0.467276  0.401426  0.483059     0.169975   0.415149  0.446869\n",
       " 0.205737  0.46651   0.416743  0.50145      0.0        0.42449   0.458707\n",
       " 0.291858  0.220492  0.220596  0.237679     0.42449    0.0       0.21685\n",
       " 0.302667  0.143027  0.175497  0.126408  …  0.458707   0.21685   0.0"
      ]
     },
     "execution_count": 5,
     "metadata": {},
     "output_type": "execute_result"
    }
   ],
   "source": [
    "BarTD = dists(X, bart_cps)"
   ]
  },
  {
   "cell_type": "code",
   "execution_count": 6,
   "id": "3b288fbd-3b4e-4d9e-81b3-0475adf8cf46",
   "metadata": {},
   "outputs": [
    {
     "name": "stdout",
     "output_type": "stream",
     "text": [
      "6401\n"
     ]
    },
    {
     "name": "stderr",
     "output_type": "stream",
     "text": [
      "\u001b[32mProgress:  42%|█████████████████▍                       |  ETA: 0:01:43\u001b[39m"
     ]
    },
    {
     "ename": "LoadError",
     "evalue": "InterruptException:",
     "output_type": "error",
     "traceback": [
      "InterruptException:",
      "",
      "Stacktrace:",
      " [1] _unsafe_getindex(::IndexLinear, ::Matrix{Float64}, ::UnitRange{Int64}, ::Base.Slice{Base.OneTo{Int64}})",
      "   @ Base ./multidimensional.jl:924",
      " [2] _getindex",
      "   @ ./multidimensional.jl:915 [inlined]",
      " [3] getindex",
      "   @ ./abstractarray.jl:1312 [inlined]",
      " [4] macro expansion",
      "   @ ./In[4]:31 [inlined]",
      " [5] macro expansion",
      "   @ ~/.julia/packages/ProgressMeter/kVZZH/src/ProgressMeter.jl:1008 [inlined]",
      " [6] dists(X::Matrix{Float64}, cps::Vector{Int64})",
      "   @ Main ./In[4]:27",
      " [7] top-level scope",
      "   @ In[6]:1"
     ]
    }
   ],
   "source": [
    "MFD = dists(X, mf_cps)"
   ]
  },
  {
   "cell_type": "code",
   "execution_count": 35,
   "id": "c604f0d9-cc5d-4b28-b718-9bec975235ab",
   "metadata": {},
   "outputs": [],
   "source": [
    "open(\"/home/dcg/projects/DPA/adp_seg_simple_dists.txt\", \"w\") do io\n",
    "        writedlm(io, SIMPLED)\n",
    "end\n",
    "open(\"/home/dcg/projects/DPA/adp_seg_bart_dists.txt\", \"w\") do io\n",
    "        writedlm(io, BarTD)\n",
    "end\n",
    "open(\"/home/dcg/projects/DPA/adp_seg_mf_dists.txt\", \"w\") do io\n",
    "        writedlm(io, MFD)\n",
    "end"
   ]
  },
  {
   "cell_type": "code",
   "execution_count": 8,
   "id": "eb220bf9-15a0-44cf-bd72-141a9310e237",
   "metadata": {},
   "outputs": [
    {
     "data": {
      "text/plain": [
       "6401×6401 Matrix{Float64}:\n",
       " 0.0       0.271775  0.412789   0.463177  …  0.249812  0.430065  0.413941\n",
       " 0.271775  0.0       0.32002    0.394162     0.265511  0.361014  0.342905\n",
       " 0.412789  0.32002   0.0        0.21039      0.347578  0.191741  0.207483\n",
       " 0.463177  0.394162  0.21039    0.0          0.385222  0.181522  0.219488\n",
       " 0.464258  0.402415  0.23874    0.1582       0.383756  0.186678  0.227118\n",
       " 0.419349  0.341493  0.140213   0.18143   …  0.356359  0.178262  0.199885\n",
       " 0.435505  0.351566  0.116028   0.17866      0.36896   0.174493  0.199569\n",
       " 0.457425  0.381933  0.175853   0.162914     0.379565  0.174535  0.209612\n",
       " 0.355222  0.296368  0.2363     0.269677     0.295127  0.256464  0.257871\n",
       " 0.420406  0.329181  0.0597096  0.192229     0.350499  0.177459  0.198632\n",
       " 0.441031  0.357253  0.113268   0.175655  …  0.378572  0.173466  0.198402\n",
       " 0.445653  0.389179  0.223803   0.160644     0.389457  0.187563  0.218028\n",
       " 0.451448  0.389647  0.223013   0.160609     0.381669  0.184508  0.219455\n",
       " ⋮                                        ⋱                      ⋮\n",
       " 0.451781  0.376612  0.173892   0.168525     0.381241  0.178089  0.209926\n",
       " 0.445387  0.368513  0.156843   0.168475  …  0.378779  0.174664  0.204512\n",
       " 0.362954  0.292152  0.211735   0.269317     0.302431  0.251276  0.249262\n",
       " 0.147883  0.269578  0.414963   0.47672      0.250911  0.441975  0.424661\n",
       " 0.423483  0.334464  0.0883931  0.20367      0.361219  0.189918  0.206674\n",
       " 0.433927  0.348344  0.107246   0.182355     0.366644  0.176087  0.200322\n",
       " 0.438873  0.362568  0.160932   0.181431  …  0.370269  0.183981  0.210868\n",
       " 0.421144  0.3533    0.220445   0.212834     0.356335  0.211781  0.225113\n",
       " 0.396811  0.319859  0.222052   0.249573     0.337429  0.236693  0.234108\n",
       " 0.249812  0.265511  0.347578   0.385222     0.0       0.36131   0.350506\n",
       " 0.430065  0.361014  0.191741   0.181522     0.36131   0.0       0.213913\n",
       " 0.413941  0.342905  0.207483   0.219488  …  0.350506  0.213913  0.0"
      ]
     },
     "execution_count": 8,
     "metadata": {},
     "output_type": "execute_result"
    }
   ],
   "source": [
    "SIMPLED = readdlm(\"/home/dcg/projects/DPA/adp_seg_simple_dists.txt\")\n",
    "BarTD = readdlm(\"/home/dcg/projects/DPA/adp_seg_bart_dists.txt\")\n",
    "MFD = readdlm(\"/home/dcg/projects/DPA/adp_seg_mf_dists.txt\")"
   ]
  },
  {
   "cell_type": "code",
   "execution_count": 37,
   "id": "5ada8e8c-b9be-4dc2-a0c3-98a0d0dc0297",
   "metadata": {},
   "outputs": [
    {
     "data": {
      "text/plain": [
       "150000-element Vector{Float64}:\n",
       "  1.0\n",
       "  1.0\n",
       "  1.0\n",
       "  1.0\n",
       "  1.0\n",
       "  1.0\n",
       "  1.0\n",
       "  1.0\n",
       "  1.0\n",
       "  1.0\n",
       "  1.0\n",
       "  1.0\n",
       "  1.0\n",
       "  ⋮\n",
       " 13.0\n",
       " 13.0\n",
       " 13.0\n",
       " 13.0\n",
       " 13.0\n",
       " 13.0\n",
       " 13.0\n",
       " 13.0\n",
       " 13.0\n",
       " 13.0\n",
       " 13.0\n",
       "  0.0"
      ]
     },
     "execution_count": 37,
     "metadata": {},
     "output_type": "execute_result"
    }
   ],
   "source": [
    "#seg_labels = get_clusters(X, jd_cps, D, 10)\n",
    "using StatsBase\n",
    "simple_seg_labels = convert(Array{Int32}, readdlm(\"/home/dcg/projects/DPA/adp_seg_simple_dists_dpa_labels.txt\"))[:,1]\n",
    "simple_point_labels = label_series(X, jd_cps, simple_seg_labels)\n",
    "bart_seg_labels = convert(Array{Int32}, readdlm(\"/home/dcg/projects/DPA/adp_seg_bart_dists_dpa_labels.txt\"))[:,1]\n",
    "bart_point_labels = label_series(X, bart_cps, bart_seg_labels)\n",
    "mf_seg_labels = convert(Array{Int32}, readdlm(\"/home/dcg/projects/DPA/adp_seg_mf_dists_dpa_labels.txt\"))[:,1]\n",
    "mf_point_labels = label_series(X, mf_cps, mf_seg_labels)\n"
   ]
  },
  {
   "cell_type": "code",
   "execution_count": 47,
   "id": "4e2cff6f-9898-4ca8-83fc-9d3110a2da4c",
   "metadata": {},
   "outputs": [
    {
     "data": {
      "text/plain": [
       "79615-element Vector{Int64}:\n",
       "    116\n",
       "    117\n",
       "    118\n",
       "    119\n",
       "    120\n",
       "    121\n",
       "    122\n",
       "    123\n",
       "    124\n",
       "    125\n",
       "    126\n",
       "    140\n",
       "    141\n",
       "      ⋮\n",
       " 149976\n",
       " 149977\n",
       " 149978\n",
       " 149979\n",
       " 149980\n",
       " 149981\n",
       " 149982\n",
       " 149983\n",
       " 149984\n",
       " 149985\n",
       " 149986\n",
       " 149987"
      ]
     },
     "execution_count": 47,
     "metadata": {},
     "output_type": "execute_result"
    }
   ],
   "source": [
    "bart_freq = countmap(bart_point_labels)\n",
    "simple_freq = countmap(simple_point_labels)\n",
    "mf_freq = countmap(mf_point_labels)\n",
    "\n",
    "sorted = [\n",
    "    sort(collect(keys(simple_freq)), by=x->simple_freq[x], rev=true),\n",
    "    sort(collect(keys(bart_freq)), by=x->bart_freq[x], rev=true),\n",
    "    sort(collect(keys(mf_freq)), by=x->mf_freq[x], rev=true)\n",
    "]\n",
    "labels = [\n",
    "    simple_point_labels,\n",
    "    bart_point_labels,\n",
    "    mf_point_labels\n",
    "]\n",
    "titles = [\"SIMPLE\", \"BarT\", \"MF\"]\n",
    "dist_mats = [SIMPLED, BarTD, MFD]\n",
    "l = labels[1]\n",
    "\n"
   ]
  },
  {
   "cell_type": "code",
   "execution_count": 73,
   "id": "8d61dfeb-09b1-4d32-b8ba-ecc71319427a",
   "metadata": {},
   "outputs": [
    {
     "data": {
      "text/plain": [
       "CairoMakie.Screen{IMAGE}\n"
      ]
     },
     "execution_count": 73,
     "metadata": {},
     "output_type": "execute_result"
    }
   ],
   "source": [
    "using KernelDensity\n",
    "\n",
    "f = Figure(size=(1500,750))\n",
    "cmap=:darktest\n",
    "for (i, l) in enumerate(labels), j=1:6\n",
    "    subset = X[findall(==(sorted[i][j]), l),:]\n",
    "    #kernel = kde(subset)\n",
    "    K = size(subset, 1)\n",
    "    #colors = [pdf(kernel, subset[k,1], subset[k,2]) for k in 1:K]\n",
    "    ax = Axis(f[i,j], title=\"$(titles[i]) Cluster $(j)\\n Population: $(K)\")\n",
    "    ax.xticks=ax.yticks=-180:60:180\n",
    "    ax.xticklabelrotation=45.0\n",
    "    scatter!(ax, (360 .* subset) .- 180, \n",
    "        #color=colors, colormap=cmap, \n",
    "        markersize=2, alpha=0.5)\n",
    "end\n",
    "\n",
    "f\n",
    "save(\"adp-dpa-clusters.png\", f)"
   ]
  },
  {
   "cell_type": "code",
   "execution_count": 9,
   "id": "2c84911e-39a6-4432-84db-8768faca97a3",
   "metadata": {},
   "outputs": [
    {
     "data": {
      "text/plain": [
       "CairoMakie.Screen{IMAGE}\n"
      ]
     },
     "execution_count": 9,
     "metadata": {},
     "output_type": "execute_result"
    }
   ],
   "source": [
    "function get_dp_stats(D; q=0.02, seg_lengths=nothing)\n",
    "    N, _ = size(D)\n",
    "    dc = quantile!([D[i,j] for i=1:N, j=1:N if i > j], q)\n",
    "    if isnothing(seg_lengths)\n",
    "        ρ = hcat(collect(1:N), [length(row[row .<= dc]) for row in eachrow(D)])\n",
    "    else\n",
    "        ρ = hcat(collect(1:N), [sum(seg_lengths .* exp.(-(D[i,:] / dc).^2)) for i in 1:N])\n",
    "    end\n",
    "    δ = zeros(N)\n",
    "    nearest_denser_neighbor = zeros(N)\n",
    "    for i=1:N\n",
    "        indices = convert(Array{Int32},filter!(idx -> idx ∉ [i], ρ[ρ[:,2] .>= ρ[i, 2],:][:,1]))\n",
    "        if length(indices) > 0\n",
    "            δ[i] = minimum(D[indices, i])\n",
    "            nearest_denser_neighbor[i] = argmin(D[indices, i])\n",
    "        else\n",
    "            δ[i] = maximum(D[:,i])\n",
    "            nearest_denser_neighbor[i] = i\n",
    "        end\n",
    "    end\n",
    "    γ = ρ[:,2] .* δ\n",
    "    return (ρ, δ, γ)\n",
    "end\n",
    "\n",
    "bart_segment_lengths = [bart_cps[T+1] - bart_cps[T] for T in 1:length(bart_cps) - 1]\n",
    "mf_segment_lengths = [mf_cps[T+1] - mf_cps[T] for T in 1:length(mf_cps) - 1]\n",
    "jd_segment_lengths = [jd_cps[T+1] - jd_cps[T] for T in 1:length(jd_cps) - 1]\n",
    "\n",
    "lengths = [jd_segment_lengths, bart_segment_lengths, mf_segment_lengths]\n",
    "\n",
    "fig = Figure(size=(900, 900))\n",
    "\n",
    "title = [\"SIMPLE\", \"BarT\", \"MF\"]\n",
    "dist_mat = [\n",
    "    SIMPLED,\n",
    "    BarTD,\n",
    "    MFD\n",
    "]\n",
    "\n",
    "for i=1:3\n",
    "    ax1 = Axis(fig[i, 1])\n",
    "    ax2 = Axis(fig[i, 2])\n",
    "    ax3 = Axis(fig[i, 3])\n",
    "\n",
    "    ax1.title = \"$(title[i]) ρ,δ\"\n",
    "    ax2.title = \"$(title[i]) γ\"\n",
    "    ax3.title = \"$(title[i]), logγ\"\n",
    "\n",
    "    ρ, δ, γ = get_dp_stats(dist_mat[i], seg_lengths=lengths[i])\n",
    "    scatter!(ax1, ρ[:,2], δ)\n",
    "    ax1.xlabel = \"ρ\"\n",
    "    ax1.ylabel = \"δ\" \n",
    "    ax2.xlabel = \"Rank\"\n",
    "    ax2.ylabel = \"γ\" \n",
    "    ax3.xlabel = \"Rank\"\n",
    "    ax3.ylabel = \"log γ\"\n",
    "    markersize=5\n",
    "    scatter!(ax1, ρ[:,2], δ, markersize=markersize)\n",
    "    scatter!(ax2, 1:length(γ), sort!(γ), markersize=markersize)\n",
    "    scatter!(ax3, 1:length(γ), log.(γ),markersize=markersize)\n",
    "end\n",
    "\n",
    "fig\n",
    "save(\"adp-dc.png\", fig)"
   ]
  },
  {
   "cell_type": "code",
   "execution_count": null,
   "id": "d89ce812-364b-4bda-84eb-d986b20ffe9b",
   "metadata": {},
   "outputs": [],
   "source": [
    "freq = countmap(pt_labels)\n",
    "cmap = :rainbow\n",
    "f = Figure()\n",
    "#Label(f[1,1], \"Valine Dipeptide Clustered with CATBOSS (SIMPLE) Segments\")\n",
    "Label(f[1,1], \"Alanine Dipeptide Clustered with Megafauna Segments\")\n",
    "ax1 = Axis(f[2,1])\n",
    "ax1.xticks=ax1.yticks=-180:30:180\n",
    "ax1.xticklabelrotation=45.0\n",
    "scatter!(\n",
    "    ax1, \n",
    "    (360 .* X) .- 180, \n",
    "    color=pt_labels, \n",
    "    colormap=cmap, \n",
    "    markersize = 1, \n",
    "    #fxaa = true, \n",
    "    #depthsorting=true, \n",
    "    #transparency=true,\n",
    ")\n",
    "println(freq)\n",
    "display(f)\n",
    "save(\"mf-adp.png\", f)"
   ]
  },
  {
   "cell_type": "code",
   "execution_count": null,
   "id": "fe7baf42-5f7d-45d0-bd9e-8c7fb9378130",
   "metadata": {},
   "outputs": [],
   "source": [
    "function plot_by_frequency(y, l)\n",
    "    # Get frequency counts of each label\n",
    "    freq = countmap(l)\n",
    "    \n",
    "    # Sort labels by frequency (most frequent first)\n",
    "    sorted_labels = sort(collect(keys(freq)), by=x->freq[x], rev=true)\n",
    "    \n",
    "    # Create a color map with blue, green, red for top 3 frequencies\n",
    "    colors = Dict(\n",
    "        sorted_labels[1] => :blue,\n",
    "        sorted_labels[2] => :green,\n",
    "        sorted_labels[3] => :red\n",
    "    )\n",
    "    \n",
    "    # For any additional labels, they get gray\n",
    "    for i in 4:length(sorted_labels)\n",
    "        colors[sorted_labels[i]] = :gray\n",
    "    end\n",
    "    \n",
    "    # Plot with the appropriate colors\n",
    "    scatter(1:length(y), y, \n",
    "            color=[colors[label] for label in l],\n",
    "            marker=:circle,\n",
    "            label=\"\")\n",
    "end"
   ]
  },
  {
   "cell_type": "code",
   "execution_count": null,
   "id": "9dab388b-2cda-4770-8574-5c7544df35ab",
   "metadata": {},
   "outputs": [],
   "source": [
    "function draw_decision_graph(D; q=0.02, seg_lengths=nothing)\n",
    "    N, _ = size(D)\n",
    "    dc = quantile!([D[i,j] for i=1:N, j=1:N if i > j], q)\n",
    "    if isnothing(seg_lengths)\n",
    "        ρ = hcat(collect(1:N), [length(row[row .<= dc]) for row in eachrow(D)])\n",
    "    else\n",
    "        ρ = hcat(collect(1:N), [sum(seg_lengths .* exp.(-(D[i,:] / dc).^2)) for i in 1:N])\n",
    "    end\n",
    "    δ = zeros(N)\n",
    "    nearest_denser_neighbor = zeros(N)\n",
    "    for i=1:N\n",
    "        indices = convert(Array{Int32},filter!(idx -> idx ∉ [i], ρ[ρ[:,2] .>= ρ[i, 2],:][:,1]))\n",
    "        if length(indices) > 0\n",
    "            δ[i] = minimum(D[indices, i])\n",
    "            nearest_denser_neighbor[i] = argmin(D[indices, i])\n",
    "        else\n",
    "            δ[i] = maximum(D[:,i])\n",
    "            nearest_denser_neighbor[i] = i\n",
    "        end\n",
    "    end\n",
    "    γ = ρ[:,2] .* δ\n",
    "    fig = Figure(size=(1500, 500))\n",
    "    ax1 = Axis(fig[1,1], title=\"ρ-δ Plot\", xlabel=\"ρ\", ylabel=\"δ\")\n",
    "    ax2 = Axis(fig[1,2], title=\"γ Plot\", xlabel=\"Rank\", ylabel=\"γ\")\n",
    "    ax3 = Axis(fig[1,3], title=\"log γ Plot\", xlabel=\"Rank\", ylabel=\"γ\")\n",
    "\n",
    "    markersize = 4\n",
    "    scatter!(ax1, ρ[:,2], δ, markersize=markersize)\n",
    "    scatter!(ax2, 1:length(γ), sort!(γ), markersize=markersize)\n",
    "    scatter!(ax3, 1:length(γ), log.(sort!(γ)), markersize=markersize)\n",
    "    fig\n",
    "end\n",
    "\n",
    "\n",
    "segment_lengths = [jd_cps[T+1] - jd_cps[T] for T in 1:length(jd_cps) - 1]\n",
    "draw_decision_graph(D, seg_lengths=segment_lengths)"
   ]
  },
  {
   "cell_type": "code",
   "execution_count": null,
   "id": "d4b90b62-c145-4766-b525-b500e6a4372d",
   "metadata": {},
   "outputs": [],
   "source": [
    "f = Figure(size=(1000,1000))\n",
    "hist!(Axis(f[1,1],xticks=0:2:120,xticklabelrotation=45.0),seg_labels[:,1],bins=120)\n",
    "\n",
    "f"
   ]
  },
  {
   "cell_type": "code",
   "execution_count": null,
   "id": "ebda5c2e-ab4d-41ae-b5f9-1d2e913debad",
   "metadata": {},
   "outputs": [],
   "source": [
    "x1_cps_bart = convert(Array{Int32}, readdlm(\"../data/VDP/vdp_cps_x1.txt\")) .+ 1\n",
    "x2_cps_bart = convert(Array{Int32}, readdlm(\"../data/VDP/vdp_cps_x2.txt\")) .+ 1\n",
    "x3_cps_bart = convert(Array{Int32}, readdlm(\"../data/VDP/vdp_cps_x3.txt\")) .+ 1\n",
    "\n",
    "function lazy_cluster_1d(data, cps, N)\n",
    "    c(x,y) = peuclidean(x,y,1.0).^2\n",
    "    dists = pairwise_segment_distances_1d(data, cps, c)\n",
    "    labels = get_clusters(data, cps, dists, N)\n",
    "    pt_labels = label_series(data, cps, labels)\n",
    "    return pt_labels\n",
    "end\n",
    "\n",
    "\n",
    "x1_cps_bart = x1_cps_bart[1:findfirst(x -> x > T, x1_cps_bart)[1] - 1]\n",
    "x2_cps_bart = x2_cps_bart[1:findfirst(x -> x > T, x2_cps_bart)[1] - 1]\n",
    "x3_cps_bart = x3_cps_bart[1:findfirst(x -> x > T, x3_cps_bart)[1] - 1]\n",
    "x1_labels_bart = lazy_cluster_1d(X[:,1], x1_cps_bart, N[1])\n",
    "x2_labels_bart = lazy_cluster_1d(X[:,2], x2_cps_bart, N[2])\n",
    "x3_labels_bart = lazy_cluster_1d(X[:,3], x3_cps_bart, N[3])"
   ]
  },
  {
   "cell_type": "code",
   "execution_count": null,
   "id": "1c5ea0f1-7175-48fa-960d-7abbd454f286",
   "metadata": {},
   "outputs": [],
   "source": [
    "fig_size = (2000,1200)\n",
    "fig = Figure(size=fig_size)\n",
    "cmap=Makie.Categorical(:jet1)\n",
    "\n",
    "ax1 = Axis(fig[1,1])\n",
    "ax2 = Axis(fig[2,1])\n",
    "ax3 = Axis(fig[3,1])\n",
    "ax1.title=\"Valine Diepeptide Angle φ Segmented via Megafauna\"\n",
    "ax2.title=\"Valine Diepeptide Angle ψ Segmented via Megafauna\"\n",
    "ax3.title=\"Valine Diepeptide Angle χ Segmented via Megafauna\"\n",
    "\n",
    "ax1.xlabel=ax2.xlabel=ax3.xlabel=\"t\"\n",
    "ax1.ylabel=ax2.ylabel=\"x(t)\"\n",
    "ax1.xticks=ax2.xticks=ax3.xticks=0:(T ÷ 25):T\n",
    "ax1.xtickformat=ax2.xtickformat=ax3.xtickformat=\"{:.0f}\"\n",
    "ax1.yticks=ax2.yticks=0:0.1:1\n",
    "\n",
    "vlines!(ax1,x1_cps[:,1], linestyle=:dashdot, linewidth=1)\n",
    "vlines!(ax2,x2_cps[:,1], linestyle=:dashdot, linewidth=1)\n",
    "vlines!(ax3,x3_cps[:,1], linestyle=:dashdot, linewidth=1)\n",
    "\n",
    "scatter!(ax1, 1:T, X[:,1], color=x1_labels, colormap=cmap, markersize=2)\n",
    "scatter!(ax2, 1:T, X[:,2], color=x2_labels, colormap=cmap, markersize=2)\n",
    "scatter!(ax3, 1:T, X[:,3], color=x3_labels, colormap=cmap, markersize=2)\n",
    "\n",
    "current_figure()"
   ]
  },
  {
   "cell_type": "code",
   "execution_count": null,
   "id": "0f8afeeb-c7f1-4ff2-a8bf-c425d22ca467",
   "metadata": {},
   "outputs": [],
   "source": [
    "save(\"valine-anglewise-mf.png\", fig)"
   ]
  },
  {
   "cell_type": "code",
   "execution_count": null,
   "id": "340aec17-2663-4518-9158-24fe04f0b4be",
   "metadata": {},
   "outputs": [],
   "source": [
    "Y = cat(x1_labels, x2_labels, x3_labels, dims=2)\n",
    "dummy_vec = [10^i for i in range(2, 0; step=-1)]'\n",
    "series_labels = [dummy_vec * Y[t,:] for t in 1:T]\n",
    "unique_labels = unique(series_labels)\n",
    "labels = [findfirst(idx -> idx == label, unique_labels) for label in series_labels];\n",
    "\n",
    "f = Figure()\n",
    "Label(f[1,1], \"Valine Dipeptide Clustered Componentwise\")\n",
    "scatter(f[2, 1], X, color=labels, colormap=cmap, markersize = 2, fxaa = true, depthsorting=true, transparency=true)\n",
    "f"
   ]
  },
  {
   "cell_type": "code",
   "execution_count": null,
   "id": "3dcde4c0-a265-4074-bb94-2fbeaab95c1e",
   "metadata": {},
   "outputs": [],
   "source": [
    "save(\"valine-joint-clustering.png\", f)"
   ]
  },
  {
   "cell_type": "code",
   "execution_count": null,
   "id": "9de6c4c3-f37f-4a8b-8939-46e33ca4e5c1",
   "metadata": {},
   "outputs": [],
   "source": [
    "d = 3\n",
    "cps = x3_cps\n",
    "segment_lengths = [cps[T+1] - cps[T] for T in 1:length(cps) - 1]\n",
    "idx = sortperm(segment_lengths, rev=true);\n",
    "fig = Figure(size=(1500, 1500))\n",
    "for i = 1:2\n",
    "T = idx[i]\n",
    "segment = X[cps[T]:cps[T+1],d]\n",
    "U = fit_mle(Normal, segment)\n",
    "V = fit_mle(Laplace, segment)\n",
    "W = fit_mle(Uniform, segment)\n",
    "Uks = ExactOneSampleKSTest(segment, U)\n",
    "Vks = ExactOneSampleKSTest(segment, V)\n",
    "t = collect(range(minimum(segment), maximum(segment), length=1000))\n",
    "ax = Axis(fig[i,1], title=\"Kolmogorov-Smirnov Test for segment #$(T)\\n# Samples: $(length(segment))\\nHypothesis: Laplace Distribution\\np-value: $(round(pvalue(Vks),digits=3))\", ylabel=\"CDF\")\n",
    "ax2 = Axis(fig[i,2], title=\"Kolmogorov-Smirnov Test for segment #$(T)\\n# Samples: $(length(segment))\\nHypothesis: Normal Distribution\\np-value: $(round(pvalue(Uks),digits=3))\", ylabel=\"CDF\")\n",
    "lines!(ax, t, cdf.(V,t), color=\"blue\")\n",
    "lines!(ax, sort(segment), (1:length(segment))./length(segment),color=\"red\")\n",
    "lines!(ax2, t, cdf.(U,t), color=\"blue\")\n",
    "lines!(ax2, sort(segment), (1:length(segment))./length(segment),color=\"red\")\n",
    "end\n",
    "current_figure()"
   ]
  },
  {
   "cell_type": "code",
   "execution_count": null,
   "id": "3e89143a-6359-45bc-8159-05cae24f8d01",
   "metadata": {},
   "outputs": [],
   "source": [
    "d = 1\n",
    "angles = [\"φ\", \"ψ\", \"χ\"]\n",
    "cps = x1_cps\n",
    "segment_lengths = [cps[T+1] - cps[T] for T in 1:length(cps) - 1]\n",
    "idx = sortperm(segment_lengths, rev=true);\n",
    "fig = Figure(size=(1500, 1500))\n",
    "for i = 1:2\n",
    "T = idx[i]\n",
    "segment = X[x1_cps[T]:x1_cps[T+1],d]\n",
    "U = fit_mle(Normal, segment)\n",
    "V = fit_mle(Laplace, segment)\n",
    "Uks = ExactOneSampleKSTest(segment, U)\n",
    "Vks = ExactOneSampleKSTest(segment, V)\n",
    "t = collect(range(minimum(segment), maximum(segment), length=1000))\n",
    "ax = Axis(fig[i,1], title=\"Kolmogorov-Smirnov Test for angle $(angles[d]), segment #$(T)\\n# Samples: $(length(segment))\\nHypothesis: Laplace Distribution\\np-value: $(round(pvalue(Vks),digits=3))\", ylabel=\"CDF\")\n",
    "ax2 = Axis(fig[i,2], title=\"Kolmogorov-Smirnov Test for angle $(angles[d]), segment #$(T)\\n# Samples: $(length(segment))\\nHypothesis: Normal Distribution\\np-value: $(round(pvalue(Uks),digits=3))\", ylabel=\"CDF\")\n",
    "lines!(ax, t, cdf.(V,t), color=\"blue\")\n",
    "lines!(ax, sort(segment), (1:length(segment))./length(segment),color=\"red\")\n",
    "lines!(ax2, t, cdf.(U,t), color=\"blue\")\n",
    "lines!(ax2, sort(segment), (1:length(segment))./length(segment),color=\"red\")\n",
    "\n",
    "elem_1 = [LineElement(color = :red, linestyle = nothing)]\n",
    "elem_2 = [LineElement(color = :blue, linestyle = nothing)]\n",
    "\n",
    "if i == 1\n",
    "    axislegend(ax,\n",
    "        [elem_1, elem_2],\n",
    "        [\"Empirical CDF\", \"Hypothesis CDF\"],\n",
    "        patchsize = (5, 5), rowgap = 1, position=:lt)\n",
    "    end\n",
    "end\n",
    "current_figure()\n",
    "\n",
    "save(\"valine-x$(d)-KStest.png\", fig)"
   ]
  },
  {
   "cell_type": "code",
   "execution_count": null,
   "id": "f4c7babc-7944-4413-886c-8382f0fce0d4",
   "metadata": {},
   "outputs": [],
   "source": [
    "function draw_decision_graph(D; q=0.02, seg_lengths=nothing)\n",
    "    N, _ = size(D)\n",
    "    dc = quantile!([D[i,j] for i=1:N, j=1:N if i > j], q)\n",
    "    if isnothing(seg_lengths)\n",
    "        ρ = hcat(collect(1:N), [length(row[row .<= dc]) for row in eachrow(D)])\n",
    "    else\n",
    "        ρ = hcat(collect(1:N), [sum(seg_lengths .* exp.(-(D[i,:] / dc).^2)) for i in 1:N])\n",
    "    end\n",
    "    δ = zeros(N)\n",
    "    nearest_denser_neighbor = zeros(N)\n",
    "    for i=1:N\n",
    "        indices = convert(Array{Int32},filter!(idx -> idx ∉ [i], ρ[ρ[:,2] .>= ρ[i, 2],:][:,1]))\n",
    "        if length(indices) > 0\n",
    "            δ[i] = minimum(D[indices, i])\n",
    "            nearest_denser_neighbor[i] = argmin(D[indices, i])\n",
    "        else\n",
    "            δ[i] = maximum(D[:,i])\n",
    "            nearest_denser_neighbor[i] = i\n",
    "        end\n",
    "    end\n",
    "    γ = ρ[:,2] .* δ\n",
    "    #fig = Figure(size=(1000, 500))\n",
    "    #ax1 = Axis(fig[1,1], title=\"ρ-δ Plot\", xlabel=\"ρ\", ylabel=\"δ\")\n",
    "    #ax2 = Axis(fig[1,2], title=\"γ Plot\", xlabel=\"Rank\", ylabel=\"γ\")\n",
    "    #scatter!(ax1, ρ[:,2], δ)\n",
    "    #scatter!(ax2, 1:length(γ), sort!(γ))\n",
    "    return γ\n",
    "end\n",
    "\n",
    "c(x,y) = peuclidean(x,y,1.0).^2\n",
    "x1_lengths = [x1_cps[T+1] - x1_cps[T] for T in 1:length(x1_cps) - 1]\n",
    "x2_lengths = [x2_cps[T+1] - x2_cps[T] for T in 1:length(x2_cps) - 1]\n",
    "x3_lengths = [x3_cps[T+1] - x3_cps[T] for T in 1:length(x3_cps) - 1]\n",
    "\n",
    "\n",
    "fig=Figure(size=(1500,500))\n",
    "\n",
    "ax1 = Axis(fig[1,1])\n",
    "ax2 = Axis(fig[1,2])\n",
    "ax3 = Axis(fig[1,3])\n",
    "ax1.title=\"Valine Diepeptide Angle φ Decision Graph\"\n",
    "ax2.title=\"Valine Diepeptide Angle ψ Decision Graph\"\n",
    "ax3.title=\"Valine Diepeptide Angle χ Decision Graph\"\n",
    "ax1.xlabel=ax2.xlabel=ax3.xlabel=\"Rank\"\n",
    "ax1.ylabel=ax2.ylabel=ax3.ylabel=\"γ\"\n",
    "γ1 = draw_decision_graph(pairwise_segment_distances_1d(X[:,1], x1_cps, c), seg_lengths=x1_lengths)\n",
    "γ2 = draw_decision_graph(pairwise_segment_distances_1d(X[:,2], x2_cps, c), seg_lengths=x2_lengths)\n",
    "γ3 = draw_decision_graph(pairwise_segment_distances_1d(X[:,3], x3_cps, c), seg_lengths=x3_lengths)\n",
    "\n",
    "scatter!(ax1, 1:length(γ1), sort!(γ1))\n",
    "scatter!(ax2, 1:length(γ2), sort!(γ2))\n",
    "scatter!(ax3, 1:length(γ3), sort!(γ3))\n",
    "current_figure()\n"
   ]
  },
  {
   "cell_type": "code",
   "execution_count": null,
   "id": "f37ead9f-c6f0-4dde-b000-7e0bc4844db5",
   "metadata": {},
   "outputs": [],
   "source": [
    "save(\"valine-decision-graphs.png\", fig)"
   ]
  },
  {
   "cell_type": "code",
   "execution_count": null,
   "id": "1a5d97c7-2a40-44e1-86f8-3faddaad2987",
   "metadata": {},
   "outputs": [],
   "source": [
    "function identify_transitions(X, cps)\n",
    "    N = length(cps) - 1\n",
    "    t1, t2, t3, t4 = cps[1], cps[2], cps[3], cps[4]\n",
    "    predecessor = X[t1:t2]\n",
    "    current = X[t2:t3]\n",
    "    successor = X[t3:t4]\n",
    "    m_pred, σ_pred = median(predecessor), std(predecessor)\n",
    "    m_curr, σ_curr = median(current), std(current)\n",
    "    m_succ, σ_succ = median(successor), std(successor)\n",
    "    transition_labels = zeros(N)\n",
    "    mstable_stats = zeros(N)\n",
    "    trans_stats = zeros(N)\n",
    "    for i = 2:N-1\n",
    "        metalike = 0\n",
    "        translike = 0\n",
    "        L = length(current)\n",
    "        for (idx, x) in enumerate(current)\n",
    "            λ = idx / (L + 1)\n",
    "            μ = λ * median(successor) + (1 - λ) * median(predecessor)\n",
    "            ρ = λ * std(successor) + (1 - λ) * std(predecessor)\n",
    "            metalike -= log(2* σ_curr) + (abs(x - m_curr) / σ_curr)\n",
    "            translike -= log(2 * ρ) + (abs(x - μ) / ρ)\n",
    "        end\n",
    "        mstable_stats[i] = metalike \n",
    "        trans_stats[i] = translike\n",
    "        transition_labels[i] = metalike > translike ? 0 : 1\n",
    "        if i == N - 1\n",
    "            break\n",
    "        end\n",
    "        predecessor = current\n",
    "        current = successor\n",
    "        successor = X[cps[i+2]:cps[i+3]]\n",
    "        m_pred, σ_pred = m_curr, σ_curr\n",
    "        m_curr, σ_curr = m_succ, σ_succ\n",
    "        m_succ, σ_succ = median(successor), std(successor)\n",
    "    end\n",
    "    return (transition_labels, mstable_stats, trans_stats)\n",
    "end\n",
    "\n",
    "x1_segment_transition_labels, x1_segment_mstable_stats, x1_segment_trans_stats = identify_transitions(X[:,1], x1_cps);\n",
    "x2_segment_transition_labels, x2_segment_mstable_stats, x2_segment_trans_stats = identify_transitions(X[:,2], x2_cps);\n",
    "x3_segment_transition_labels, x3_segment_mstable_stats, x3_segment_trans_stats = identify_transitions(X[:,3], x3_cps);"
   ]
  },
  {
   "cell_type": "code",
   "execution_count": null,
   "id": "71466a7a-2f9a-4527-8267-d66431985207",
   "metadata": {},
   "outputs": [],
   "source": [
    "    \n",
    "N = length(x3_cps) - 1\n",
    "laplace_pvalues = []\n",
    "normal_pvalues = []\n",
    "mstable_lengths = []\n",
    "n_mstable = 0\n",
    "\n",
    "for i=1:N\n",
    "    if x3_segment_transition_labels[i] > 0\n",
    "        continue\n",
    "    end\n",
    "    n_mstable += 1\n",
    "    segment = X[x3_cps[i]:x3_cps[i+1],3]\n",
    "    push!(mstable_lengths, length(segment))\n",
    "    Z = fit_mle(Laplace, segment)\n",
    "    Zprime = fit_mle(Normal, segment)\n",
    "    push!(laplace_pvalues, pvalue(ExactOneSampleKSTest(segment, Z)))\n",
    "    push!(normal_pvalues, pvalue(ExactOneSampleKSTest(segment, Zprime)))\n",
    "end\n",
    "\n",
    "println(\"Number of metastable segments: $n_mstable\")\n",
    "println(\"Percentage of metastable segments that reject the Laplace hypothesis \n",
    "    $(1 - count(>(0.05), laplace_pvalues) / n_mstable))\")\n",
    "println(\"Median length of metsatsble segments $(median(mstable_lengths))\")\n",
    "println(\"IQR of length of metastable segments $(quantile(mstable_lengths, 0.75) - quantile(mstable_lengths, 0.25))\")\n",
    "println(\"Percentage of metastable segments that reject the Normal hypothesis \n",
    "    $(1 - (count(>(0.05), normal_pvalues)) / n_mstable )\")\n"
   ]
  },
  {
   "cell_type": "code",
   "execution_count": null,
   "id": "a2e1d60b-837e-4bcb-b4eb-503cd95cc696",
   "metadata": {},
   "outputs": [],
   "source": []
  }
 ],
 "metadata": {
  "kernelspec": {
   "display_name": "Julia 1.11.4",
   "language": "julia",
   "name": "julia-1.11"
  },
  "language_info": {
   "file_extension": ".jl",
   "mimetype": "application/julia",
   "name": "julia",
   "version": "1.11.4"
  }
 },
 "nbformat": 4,
 "nbformat_minor": 5
}
