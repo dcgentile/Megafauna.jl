{
 "cells": [
  {
   "cell_type": "markdown",
   "id": "d2f744e1",
   "metadata": {},
   "source": [
    "## Import Libraries"
   ]
  },
  {
   "cell_type": "code",
   "execution_count": 1,
   "id": "0330248e",
   "metadata": {},
   "outputs": [
    {
     "data": {
      "text/plain": [
       "PyObject <module 'deeptime' from '/Users/dcg/.julia/conda/3/x86_64/lib/python3.12/site-packages/deeptime/__init__.py'>"
      ]
     },
     "execution_count": 1,
     "metadata": {},
     "output_type": "execute_result"
    }
   ],
   "source": [
    "using PyCall\n",
    "using Megafauna\n",
    "using DelimitedFiles\n",
    "include(\"../src/SegmentDistances.jl\")\n",
    "# import python library for ADP clustering using PyCall\n",
    "Data = pyimport(\"dadapy.data\")\n",
    "# import python library for Deeptime using PyCall\n",
    "deeptime = pyimport(\"deeptime\")"
   ]
  },
  {
   "cell_type": "markdown",
   "id": "ca7aca12",
   "metadata": {},
   "source": [
    "## Set Deeptime variables for VAMP scoring"
   ]
  },
  {
   "cell_type": "code",
   "execution_count": 2,
   "id": "457c19b6",
   "metadata": {},
   "outputs": [
    {
     "data": {
      "text/plain": [
       "PyObject <function vamp_score at 0x1b39abec0>"
      ]
     },
     "execution_count": 2,
     "metadata": {},
     "output_type": "execute_result"
    }
   ],
   "source": [
    "decomposition = deeptime.decomposition\n",
    "VAMP = decomposition.VAMP\n",
    "vamp_score = decomposition.vamp_score"
   ]
  },
  {
   "cell_type": "markdown",
   "id": "1338746f",
   "metadata": {},
   "source": [
    "## Load data"
   ]
  },
  {
   "cell_type": "code",
   "execution_count": 3,
   "id": "bb4ad6c6",
   "metadata": {},
   "outputs": [
    {
     "data": {
      "text/plain": [
       "100000-element Vector{Float64}:\n",
       "  0.0\n",
       "  0.051143667354386524\n",
       "  0.08600807236266525\n",
       "  0.007153524256075693\n",
       "  0.14186588177505005\n",
       "  0.14685408069336753\n",
       "  0.2535870479970487\n",
       "  0.18941749180005957\n",
       "  0.3047502923621745\n",
       "  0.18713377631989392\n",
       "  0.21610093725491342\n",
       "  0.2072503732460562\n",
       "  0.34310215731208693\n",
       "  ⋮\n",
       " -0.7744094981718489\n",
       " -0.7757513160218188\n",
       " -0.8781407678458266\n",
       " -0.9277912881824416\n",
       " -0.8307554860495173\n",
       " -0.6648800452189343\n",
       " -0.6931762294352226\n",
       " -0.6701892664526988\n",
       " -0.5470280921110552\n",
       " -0.8015793197195583\n",
       " -0.8804054232794996\n",
       " -0.9271776014688877"
      ]
     },
     "execution_count": 3,
     "metadata": {},
     "output_type": "execute_result"
    }
   ],
   "source": [
    "X = readdlm(\"../data/prinz/prinz.txt\")[:,1];"
   ]
  },
  {
   "cell_type": "markdown",
   "id": "73ed7439",
   "metadata": {},
   "source": [
    "## Set Adv. Density Peaks variables, create and score model based on cps"
   ]
  },
  {
   "cell_type": "code",
   "execution_count": 5,
   "id": "1792d4c5",
   "metadata": {},
   "outputs": [
    {
     "data": {
      "text/plain": [
       "score_parameters (generic function with 2 methods)"
      ]
     },
     "execution_count": 5,
     "metadata": {},
     "output_type": "execute_result"
    }
   ],
   "source": [
    "# given a quantile cutoff q, a windowsize w, and a chunksize T, by default 10000\n",
    "# this function \n",
    "# 1. computes change points in the time series according to q,w\n",
    "# 2. computes pairwise segment distances using W2 distance\n",
    "# 3. uses Advanced density peaks clustering to identify segment cluster labels in an unsupervised manner\n",
    "# 4. labels the individual points of the segment according to their segment label\n",
    "# 5. uses deeptime to fit a MSM model and output a vamp2\n",
    "\n",
    "function score_parameters(q, w, T=10000)\n",
    "    changes = compute_change_points(X[1:T], q, w)\n",
    "    dists = pairwise_segment_distances_1d(X[1:T], changes)\n",
    "    data = Data.Data(distances=dists)\n",
    "    Z = 1.65\n",
    "    halo = false\n",
    "    labels = data.compute_clustering_ADP(Z=Z, halo=halo)\n",
    "    pt_labels = label_series(X, changes, labels)\n",
    "    model = VAMP(lagtime=5).fit(pt_labels).fetch_model()\n",
    "    score = vamp_score(model, 2)\n",
    "    return score\n",
    "end"
   ]
  },
  {
   "cell_type": "markdown",
   "id": "edcb4eb0",
   "metadata": {},
   "source": [
    "## Grid search to find optimal parameters"
   ]
  },
  {
   "cell_type": "code",
   "execution_count": 6,
   "id": "35e4bea3",
   "metadata": {},
   "outputs": [
    {
     "name": "stdout",
     "output_type": "stream",
     "text": [
      "enumerating change points\n",
      "number of dimensions: 1\n",
      "Number of segments = 387\n",
      "Computing 74691 segment distances\n"
     ]
    },
    {
     "name": "stderr",
     "output_type": "stream",
     "text": [
      "\u001b[32mProgress: 100%|█████████████████████████████████████████| Time: 0:00:03\u001b[39mm\n"
     ]
    },
    {
     "name": "stdout",
     "output_type": "stream",
     "text": [
      "finished computing distances\n",
      "enumerating change points\n",
      "number of dimensions: 1\n",
      "Number of segments = 253\n",
      "Computing 31878 segment distances\n"
     ]
    },
    {
     "name": "stderr",
     "output_type": "stream",
     "text": [
      "\u001b[32mProgress: 100%|█████████████████████████████████████████| Time: 0:00:01\u001b[39m\n"
     ]
    },
    {
     "name": "stdout",
     "output_type": "stream",
     "text": [
      "finished computing distances\n",
      "enumerating change points\n",
      "number of dimensions: 1\n",
      "Number of segments = 191\n",
      "Computing 18145 segment distances\n"
     ]
    },
    {
     "name": "stderr",
     "output_type": "stream",
     "text": [
      "\u001b[32mProgress: 100%|█████████████████████████████████████████| Time: 0:00:00\u001b[39m\n"
     ]
    },
    {
     "name": "stdout",
     "output_type": "stream",
     "text": [
      "finished computing distances\n",
      "enumerating change points\n",
      "number of dimensions: 1\n",
      "Number of segments = 149\n",
      "Computing 11026 segment distances\n"
     ]
    },
    {
     "name": "stderr",
     "output_type": "stream",
     "text": [
      "\u001b[32mProgress: 100%|█████████████████████████████████████████| Time: 0:00:00\u001b[39m\n"
     ]
    },
    {
     "name": "stdout",
     "output_type": "stream",
     "text": [
      "finished computing distances\n",
      "enumerating change points\n",
      "number of dimensions: 1\n",
      "Number of segments = 121\n",
      "Computing 7260 segment distances\n"
     ]
    },
    {
     "name": "stderr",
     "output_type": "stream",
     "text": [
      "\u001b[32mProgress: 100%|█████████████████████████████████████████| Time: 0:00:00\u001b[39m\n"
     ]
    },
    {
     "name": "stdout",
     "output_type": "stream",
     "text": [
      "finished computing distances\n",
      "enumerating change points\n",
      "number of dimensions: 1\n",
      "Number of segments = 357\n",
      "Computing 63546 segment distances\n"
     ]
    },
    {
     "name": "stderr",
     "output_type": "stream",
     "text": [
      "\u001b[32mProgress: 100%|█████████████████████████████████████████| Time: 0:00:01\u001b[39m\n"
     ]
    },
    {
     "name": "stdout",
     "output_type": "stream",
     "text": [
      "finished computing distances\n",
      "enumerating change points\n",
      "number of dimensions: 1\n",
      "Number of segments = 243\n",
      "Computing 29403 segment distances\n"
     ]
    },
    {
     "name": "stderr",
     "output_type": "stream",
     "text": [
      "\u001b[32mProgress: 100%|█████████████████████████████████████████| Time: 0:00:00\u001b[39m\n"
     ]
    },
    {
     "name": "stdout",
     "output_type": "stream",
     "text": [
      "finished computing distances\n",
      "enumerating change points\n",
      "number of dimensions: 1\n",
      "Number of segments = 167\n",
      "Computing 13861 segment distances\n"
     ]
    },
    {
     "name": "stderr",
     "output_type": "stream",
     "text": [
      "\u001b[32mProgress: 100%|█████████████████████████████████████████| Time: 0:00:00\u001b[39m\n"
     ]
    },
    {
     "name": "stdout",
     "output_type": "stream",
     "text": [
      "finished computing distances\n",
      "enumerating change points\n",
      "number of dimensions: 1\n",
      "Number of segments = 141\n",
      "Computing 9870 segment distances\n"
     ]
    },
    {
     "name": "stderr",
     "output_type": "stream",
     "text": [
      "\u001b[32mProgress: 100%|█████████████████████████████████████████| Time: 0:00:00\u001b[39m\n"
     ]
    },
    {
     "name": "stdout",
     "output_type": "stream",
     "text": [
      "finished computing distances\n",
      "enumerating change points\n",
      "number of dimensions: 1\n",
      "Number of segments = 121\n",
      "Computing 7260 segment distances\n"
     ]
    },
    {
     "name": "stderr",
     "output_type": "stream",
     "text": [
      "\u001b[32mProgress: 100%|█████████████████████████████████████████| Time: 0:00:00\u001b[39m\n"
     ]
    },
    {
     "name": "stdout",
     "output_type": "stream",
     "text": [
      "finished computing distances\n",
      "enumerating change points\n",
      "number of dimensions: 1\n",
      "Number of segments = 301\n",
      "Computing 45150 segment distances\n"
     ]
    },
    {
     "name": "stderr",
     "output_type": "stream",
     "text": [
      "\u001b[32mProgress: 100%|█████████████████████████████████████████| Time: 0:00:01\u001b[39m\n"
     ]
    },
    {
     "name": "stdout",
     "output_type": "stream",
     "text": [
      "finished computing distances\n",
      "enumerating change points\n",
      "number of dimensions: 1\n",
      "Number of segments = 197\n",
      "Computing 19306 segment distances\n"
     ]
    },
    {
     "name": "stderr",
     "output_type": "stream",
     "text": [
      "\u001b[32mProgress: 100%|█████████████████████████████████████████| Time: 0:00:00\u001b[39m\n"
     ]
    },
    {
     "name": "stdout",
     "output_type": "stream",
     "text": [
      "finished computing distances\n",
      "enumerating change points\n",
      "number of dimensions: 1\n",
      "Number of segments = 149\n",
      "Computing 11026 segment distances\n"
     ]
    },
    {
     "name": "stderr",
     "output_type": "stream",
     "text": [
      "\u001b[32mProgress: 100%|█████████████████████████████████████████| Time: 0:00:00\u001b[39m\n"
     ]
    },
    {
     "name": "stdout",
     "output_type": "stream",
     "text": [
      "finished computing distances\n",
      "enumerating change points\n",
      "number of dimensions: 1\n",
      "Number of segments = 129\n",
      "Computing 8256 segment distances\n"
     ]
    },
    {
     "name": "stderr",
     "output_type": "stream",
     "text": [
      "\u001b[32mProgress: 100%|█████████████████████████████████████████| Time: 0:00:00\u001b[39m\n"
     ]
    },
    {
     "name": "stdout",
     "output_type": "stream",
     "text": [
      "finished computing distances\n",
      "enumerating change points\n",
      "number of dimensions: 1\n",
      "Number of segments = 99\n",
      "Computing 4851 segment distances\n"
     ]
    },
    {
     "name": "stderr",
     "output_type": "stream",
     "text": [
      "\u001b[32mProgress: 100%|█████████████████████████████████████████| Time: 0:00:00\u001b[39m\n"
     ]
    },
    {
     "name": "stdout",
     "output_type": "stream",
     "text": [
      "finished computing distances\n",
      "enumerating change points\n",
      "number of dimensions: 1\n",
      "Number of segments = 233\n",
      "Computing 27028 segment distances\n"
     ]
    },
    {
     "name": "stderr",
     "output_type": "stream",
     "text": [
      "\u001b[32mProgress: 100%|█████████████████████████████████████████| Time: 0:00:00\u001b[39m\n"
     ]
    },
    {
     "name": "stdout",
     "output_type": "stream",
     "text": [
      "finished computing distances\n",
      "enumerating change points\n",
      "number of dimensions: 1\n",
      "Number of segments = 139\n",
      "Computing 9591 segment distances\n"
     ]
    },
    {
     "name": "stderr",
     "output_type": "stream",
     "text": [
      "\u001b[32mProgress: 100%|█████████████████████████████████████████| Time: 0:00:00\u001b[39m\n"
     ]
    },
    {
     "name": "stdout",
     "output_type": "stream",
     "text": [
      "finished computing distances\n",
      "enumerating change points\n",
      "number of dimensions: 1\n",
      "Number of segments = 97\n",
      "Computing 4656 segment distances\n"
     ]
    },
    {
     "name": "stderr",
     "output_type": "stream",
     "text": [
      "\u001b[32mProgress: 100%|█████████████████████████████████████████| Time: 0:00:00\u001b[39m\n"
     ]
    },
    {
     "name": "stdout",
     "output_type": "stream",
     "text": [
      "finished computing distances\n",
      "enumerating change points\n",
      "number of dimensions: 1\n",
      "Number of segments = 81\n",
      "Computing 3240 segment distances\n"
     ]
    },
    {
     "name": "stderr",
     "output_type": "stream",
     "text": [
      "\u001b[32mProgress: 100%|█████████████████████████████████████████| Time: 0:00:00\u001b[39m\n"
     ]
    },
    {
     "name": "stdout",
     "output_type": "stream",
     "text": [
      "finished computing distances\n",
      "enumerating change points\n",
      "number of dimensions: 1\n",
      "Number of segments = 67\n",
      "Computing 2211 segment distances\n"
     ]
    },
    {
     "name": "stderr",
     "output_type": "stream",
     "text": [
      "\u001b[32mProgress: 100%|█████████████████████████████████████████| Time: 0:00:00\u001b[39m\n"
     ]
    },
    {
     "name": "stdout",
     "output_type": "stream",
     "text": [
      "finished computing distances\n",
      "enumerating change points\n",
      "number of dimensions: 1\n",
      "Number of segments = 47\n",
      "Computing 1081 segment distances\n"
     ]
    },
    {
     "name": "stderr",
     "output_type": "stream",
     "text": [
      "\u001b[32mProgress: 100%|█████████████████████████████████████████| Time: 0:00:00\u001b[39m\n"
     ]
    },
    {
     "name": "stdout",
     "output_type": "stream",
     "text": [
      "finished computing distances\n",
      "enumerating change points\n",
      "number of dimensions: 1\n",
      "Number of segments = 41\n",
      "Computing 820 segment distances\n",
      "finished computing distances\n",
      "enumerating change points\n",
      "number of dimensions: 1\n",
      "Number of segments = 31\n",
      "Computing 465 segment distances\n",
      "finished computing distances\n",
      "enumerating change points\n",
      "number of dimensions: 1\n",
      "Number of segments = 23\n",
      "Computing 253 segment distances\n",
      "finished computing distances\n",
      "enumerating change points\n",
      "number of dimensions: 1\n",
      "Number of segments = 19\n",
      "Computing 171 segment distances\n",
      "finished computing distances\n",
      "1.9811666404450707\n"
     ]
    }
   ],
   "source": [
    "N = 5\n",
    "T = 10000\n",
    "scores = zeros(N, N)\n",
    "qs = LinRange(0.25, 0.95, N)\n",
    "ws = LinRange(25, 100, N)\n",
    "for i=1:N, j=1:N\n",
    "    try\n",
    "        scores[i,j] = score_parameters(qs[i], trunc(Int, ws[j]), T)\n",
    "    catch err\n",
    "        continue\n",
    "    end\n",
    "end\n",
    "println(maximum(scores))"
   ]
  },
  {
   "cell_type": "code",
   "execution_count": 15,
   "id": "2e043a2a",
   "metadata": {},
   "outputs": [
    {
     "name": "stdout",
     "output_type": "stream",
     "text": [
      "Best q: 0.95 and w: 43\n"
     ]
    }
   ],
   "source": [
    "i, j = argmax(scores)[1], argmax(scores)[2];\n",
    "q = qs[i];\n",
    "w = trunc(Int, ws[j]);\n",
    "println(\"Best q: $(q) and w: $(w)\")"
   ]
  },
  {
   "cell_type": "markdown",
   "id": "a5de5264",
   "metadata": {},
   "source": [
    "## Reproduce the best model according to the VAMP2 score found above"
   ]
  },
  {
   "cell_type": "code",
   "execution_count": 16,
   "id": "b821de89",
   "metadata": {},
   "outputs": [
    {
     "name": "stdout",
     "output_type": "stream",
     "text": [
      "enumerating change points\n",
      "number of dimensions: 1\n",
      "Number of segments = 351\n",
      "Computing 61425 segment distances\n"
     ]
    },
    {
     "name": "stderr",
     "output_type": "stream",
     "text": [
      "\u001b[32mProgress: 100%|█████████████████████████████████████████| Time: 0:00:12\u001b[39m\n"
     ]
    },
    {
     "name": "stdout",
     "output_type": "stream",
     "text": [
      "finished computing distances\n"
     ]
    },
    {
     "data": {
      "text/plain": [
       "1.9643225694624755"
      ]
     },
     "execution_count": 16,
     "metadata": {},
     "output_type": "execute_result"
    }
   ],
   "source": [
    "changes = compute_change_points(X, q, w)\n",
    "dists = pairwise_segment_distances_1d(X, changes)\n",
    "data = Data.Data(distances=dists)\n",
    "Z = 1.65\n",
    "halo = false\n",
    "labels = data.compute_clustering_ADP(Z=Z, halo=halo)\n",
    "pt_labels = label_series(X, changes, labels)\n",
    "model = VAMP(lagtime=5).fit(pt_labels).fetch_model()\n",
    "score = vamp_score(model, 2)"
   ]
  },
  {
   "cell_type": "code",
   "execution_count": null,
   "id": "f2e0e5b1",
   "metadata": {},
   "outputs": [],
   "source": []
  }
 ],
 "metadata": {
  "kernelspec": {
   "display_name": "Julia 1.11.5",
   "language": "julia",
   "name": "julia-1.11"
  },
  "language_info": {
   "file_extension": ".jl",
   "mimetype": "application/julia",
   "name": "julia",
   "version": "1.11.5"
  }
 },
 "nbformat": 4,
 "nbformat_minor": 5
}
