{
 "cells": [
  {
   "cell_type": "code",
   "execution_count": 4,
   "id": "e3804c73",
   "metadata": {},
   "outputs": [],
   "source": [
    "using PyCall\n",
    "using Megafauna\n",
    "using DelimitedFiles\n",
    "include(\"../src/SegmentDistances.jl\")"
   ]
  },
  {
   "cell_type": "code",
   "execution_count": 3,
   "id": "0330248e",
   "metadata": {},
   "outputs": [
    {
     "data": {
      "text/plain": [
       "PyObject <module 'dadapy.data' from '/Users/dcg/.julia/conda/3/x86_64/lib/python3.12/site-packages/dadapy/data.py'>"
      ]
     },
     "execution_count": 3,
     "metadata": {},
     "output_type": "execute_result"
    }
   ],
   "source": [
    "Data = pyimport(\"dadapy.data\")"
   ]
  },
  {
   "cell_type": "code",
   "execution_count": 16,
   "id": "457c19b6",
   "metadata": {},
   "outputs": [
    {
     "data": {
      "text/plain": [
       "PyObject <function vamp_score at 0x1ac68f560>"
      ]
     },
     "execution_count": 16,
     "metadata": {},
     "output_type": "execute_result"
    }
   ],
   "source": [
    "deeptime = pyimport(\"deeptime\")\n",
    "decomposition = deeptime.decomposition\n",
    "VAMP = decomposition.VAMP\n",
    "vamp_score = decomposition.vamp_score"
   ]
  },
  {
   "cell_type": "code",
   "execution_count": null,
   "id": "bb4ad6c6",
   "metadata": {},
   "outputs": [],
   "source": [
    "dists = readdlm(\"/Users/dcg/projects/DPA/data/prinz_dists-0.5-16.txt\")"
   ]
  },
  {
   "cell_type": "code",
   "execution_count": 33,
   "id": "1c2eec26",
   "metadata": {},
   "outputs": [
    {
     "data": {
      "text/plain": [
       "100000-element Vector{Float64}:\n",
       "  0.0\n",
       "  0.051143667354386524\n",
       "  0.08600807236266525\n",
       "  0.007153524256075693\n",
       "  0.14186588177505005\n",
       "  0.14685408069336753\n",
       "  0.2535870479970487\n",
       "  0.18941749180005957\n",
       "  0.3047502923621745\n",
       "  0.18713377631989392\n",
       "  0.21610093725491342\n",
       "  0.2072503732460562\n",
       "  0.34310215731208693\n",
       "  ⋮\n",
       " -0.7744094981718489\n",
       " -0.7757513160218188\n",
       " -0.8781407678458266\n",
       " -0.9277912881824416\n",
       " -0.8307554860495173\n",
       " -0.6648800452189343\n",
       " -0.6931762294352226\n",
       " -0.6701892664526988\n",
       " -0.5470280921110552\n",
       " -0.8015793197195583\n",
       " -0.8804054232794996\n",
       " -0.9271776014688877"
      ]
     },
     "execution_count": 33,
     "metadata": {},
     "output_type": "execute_result"
    }
   ],
   "source": [
    "changes = convert(Array{Int32},readdlm(\"/Users/dcg/projects/DPA/data/prinz_changes-0.5-16.txt\"))[:,1]\n",
    "X = readdlm(\"/Users/dcg/projects/DPA/data/prinz.txt\")[:,1]"
   ]
  },
  {
   "cell_type": "code",
   "execution_count": 36,
   "id": "413d9d5d",
   "metadata": {},
   "outputs": [
    {
     "data": {
      "text/plain": [
       "1.7145031898996101"
      ]
     },
     "execution_count": 36,
     "metadata": {},
     "output_type": "execute_result"
    }
   ],
   "source": [
    "data = Data.Data(distances=dists)\n",
    "Z = 1.65\n",
    "halo = false\n",
    "labels = data.compute_clustering_ADP(Z=Z, halo=halo)\n",
    "pt_labels = label_series(X, changes, labels)\n",
    "model = VAMP(lagtime=5).fit(pt_labels).fetch_model()\n",
    "score = vamp_score(model, 2)"
   ]
  },
  {
   "cell_type": "code",
   "execution_count": 45,
   "id": "1792d4c5",
   "metadata": {},
   "outputs": [
    {
     "data": {
      "text/plain": [
       "score_parameters (generic function with 2 methods)"
      ]
     },
     "execution_count": 45,
     "metadata": {},
     "output_type": "execute_result"
    }
   ],
   "source": [
    "function score_parameters(q, w, T=10000)\n",
    "    changes = compute_change_points(X[1:T], q, w)\n",
    "    dists = pairwise_segment_distances_1d(X[1:T], changes)\n",
    "    data = Data.Data(distances=dists)\n",
    "    Z = 1.65\n",
    "    halo = false\n",
    "    labels = data.compute_clustering_ADP(Z=Z, halo=halo)\n",
    "    pt_labels = label_series(X, changes, labels)\n",
    "    model = VAMP(lagtime=5).fit(pt_labels).fetch_model()\n",
    "    score = vamp_score(model, 2)\n",
    "    return score\n",
    "end"
   ]
  },
  {
   "cell_type": "code",
   "execution_count": 64,
   "id": "35e4bea3",
   "metadata": {},
   "outputs": [
    {
     "name": "stdout",
     "output_type": "stream",
     "text": [
      "enumerating change points\n",
      "number of dimensions: 1\n",
      "Number of segments = 5167\n",
      "Computing 13346361 segment distances\n"
     ]
    },
    {
     "name": "stderr",
     "output_type": "stream",
     "text": [
      "\u001b[32mProgress: 100%|█████████████████████████████████████████| Time: 0:02:00\u001b[39m\n"
     ]
    },
    {
     "name": "stdout",
     "output_type": "stream",
     "text": [
      "finished computing distances\n",
      "enumerating change points\n",
      "number of dimensions: 1\n",
      "Number of segments = 2443\n",
      "Computing 2982903 segment distances\n"
     ]
    },
    {
     "name": "stderr",
     "output_type": "stream",
     "text": [
      "\u001b[32mProgress: 100%|█████████████████████████████████████████| Time: 0:00:56\u001b[39m\n"
     ]
    },
    {
     "name": "stdout",
     "output_type": "stream",
     "text": [
      "finished computing distances\n",
      "enumerating change points\n",
      "number of dimensions: 1\n",
      "Number of segments = 1437\n",
      "Computing 1031766 segment distances\n"
     ]
    },
    {
     "name": "stderr",
     "output_type": "stream",
     "text": [
      "\u001b[32mProgress: 100%|█████████████████████████████████████████| Time: 0:00:32\u001b[39m\n"
     ]
    },
    {
     "name": "stdout",
     "output_type": "stream",
     "text": [
      "finished computing distances\n",
      "enumerating change points\n",
      "number of dimensions: 1\n",
      "Number of segments = 1111\n",
      "Computing 616605 segment distances\n"
     ]
    },
    {
     "name": "stderr",
     "output_type": "stream",
     "text": [
      "\u001b[32mProgress: 100%|█████████████████████████████████████████| Time: 0:00:24\u001b[39m\n"
     ]
    },
    {
     "name": "stdout",
     "output_type": "stream",
     "text": [
      "finished computing distances\n",
      "enumerating change points\n",
      "number of dimensions: 1\n",
      "Number of segments = 955\n",
      "Computing 455535 segment distances\n"
     ]
    },
    {
     "name": "stderr",
     "output_type": "stream",
     "text": [
      "\u001b[32mProgress: 100%|█████████████████████████████████████████| Time: 0:00:23\u001b[39m\n"
     ]
    },
    {
     "name": "stdout",
     "output_type": "stream",
     "text": [
      "finished computing distances\n",
      "enumerating change points\n",
      "number of dimensions: 1\n",
      "Number of segments = 915\n",
      "Computing 418155 segment distances\n"
     ]
    },
    {
     "name": "stderr",
     "output_type": "stream",
     "text": [
      "\u001b[32mProgress: 100%|█████████████████████████████████████████| Time: 0:00:22\u001b[39m\n"
     ]
    },
    {
     "name": "stdout",
     "output_type": "stream",
     "text": [
      "finished computing distances\n",
      "enumerating change points\n",
      "number of dimensions: 1\n",
      "Number of segments = 809\n",
      "Computing 326836 segment distances\n"
     ]
    },
    {
     "name": "stderr",
     "output_type": "stream",
     "text": [
      "\u001b[32mProgress: 100%|█████████████████████████████████████████| Time: 0:00:18\u001b[39m\n"
     ]
    },
    {
     "name": "stdout",
     "output_type": "stream",
     "text": [
      "finished computing distances\n",
      "enumerating change points\n",
      "number of dimensions: 1\n",
      "Number of segments = 703\n",
      "Computing 246753 segment distances\n"
     ]
    },
    {
     "name": "stderr",
     "output_type": "stream",
     "text": [
      "\u001b[32mProgress: 100%|█████████████████████████████████████████| Time: 0:00:15\u001b[39m\n"
     ]
    },
    {
     "name": "stdout",
     "output_type": "stream",
     "text": [
      "finished computing distances\n",
      "enumerating change points\n",
      "number of dimensions: 1\n",
      "Number of segments = 663\n",
      "Computing 219453 segment distances\n"
     ]
    },
    {
     "name": "stderr",
     "output_type": "stream",
     "text": [
      "\u001b[32mProgress: 100%|█████████████████████████████████████████| Time: 0:00:14\u001b[39m\n"
     ]
    },
    {
     "name": "stdout",
     "output_type": "stream",
     "text": [
      "finished computing distances\n",
      "enumerating change points\n",
      "number of dimensions: 1\n",
      "Number of segments = 603\n",
      "Computing 181503 segment distances\n"
     ]
    },
    {
     "name": "stderr",
     "output_type": "stream",
     "text": [
      "\u001b[32mProgress: 100%|█████████████████████████████████████████| Time: 0:00:13\u001b[39m\n"
     ]
    },
    {
     "name": "stdout",
     "output_type": "stream",
     "text": [
      "finished computing distances\n",
      "enumerating change points\n",
      "number of dimensions: 1\n",
      "Number of segments = 7441\n",
      "Computing 27680520 segment distances\n"
     ]
    },
    {
     "name": "stderr",
     "output_type": "stream",
     "text": [
      "\u001b[32mProgress: 100%|█████████████████████████████████████████| Time: 0:02:55\u001b[39m\n"
     ]
    },
    {
     "name": "stdout",
     "output_type": "stream",
     "text": [
      "finished computing distances\n",
      "enumerating change points\n",
      "number of dimensions: 1\n",
      "Number of segments = 3055\n",
      "Computing 4664985 segment distances\n"
     ]
    },
    {
     "name": "stderr",
     "output_type": "stream",
     "text": [
      "\u001b[32mProgress: 100%|█████████████████████████████████████████| Time: 0:01:07\u001b[39m\n"
     ]
    },
    {
     "name": "stdout",
     "output_type": "stream",
     "text": [
      "finished computing distances\n",
      "enumerating change points\n",
      "number of dimensions: 1\n",
      "Number of segments = 1887\n",
      "Computing 1779441 segment distances\n"
     ]
    },
    {
     "name": "stderr",
     "output_type": "stream",
     "text": [
      "\u001b[32mProgress: 100%|█████████████████████████████████████████| Time: 0:00:43\u001b[39m\n"
     ]
    },
    {
     "name": "stdout",
     "output_type": "stream",
     "text": [
      "finished computing distances\n",
      "enumerating change points\n",
      "number of dimensions: 1\n",
      "Number of segments = 1461\n",
      "Computing 1066530 segment distances\n"
     ]
    },
    {
     "name": "stderr",
     "output_type": "stream",
     "text": [
      "\u001b[32mProgress: 100%|█████████████████████████████████████████| Time: 0:00:32\u001b[39m\n"
     ]
    },
    {
     "name": "stdout",
     "output_type": "stream",
     "text": [
      "finished computing distances\n",
      "enumerating change points\n",
      "number of dimensions: 1\n",
      "Number of segments = 1291\n",
      "Computing 832695 segment distances\n"
     ]
    },
    {
     "name": "stderr",
     "output_type": "stream",
     "text": [
      "\u001b[32mProgress: 100%|█████████████████████████████████████████| Time: 0:00:29\u001b[39m\n"
     ]
    },
    {
     "name": "stdout",
     "output_type": "stream",
     "text": [
      "finished computing distances\n",
      "enumerating change points\n",
      "number of dimensions: 1\n",
      "Number of segments = 1079\n",
      "Computing 581581 segment distances\n"
     ]
    },
    {
     "name": "stderr",
     "output_type": "stream",
     "text": [
      "\u001b[32mProgress: 100%|█████████████████████████████████████████| Time: 0:00:24\u001b[39m\n"
     ]
    },
    {
     "name": "stdout",
     "output_type": "stream",
     "text": [
      "finished computing distances\n",
      "enumerating change points\n",
      "number of dimensions: 1\n",
      "Number of segments = 943\n",
      "Computing 444153 segment distances\n"
     ]
    },
    {
     "name": "stderr",
     "output_type": "stream",
     "text": [
      "\u001b[32mProgress: 100%|█████████████████████████████████████████| Time: 0:00:20\u001b[39m\n"
     ]
    },
    {
     "name": "stdout",
     "output_type": "stream",
     "text": [
      "finished computing distances\n",
      "enumerating change points\n",
      "number of dimensions: 1\n",
      "Number of segments = 815\n",
      "Computing 331705 segment distances\n"
     ]
    },
    {
     "name": "stderr",
     "output_type": "stream",
     "text": [
      "\u001b[32mProgress: 100%|█████████████████████████████████████████| Time: 0:00:17\u001b[39m\n"
     ]
    },
    {
     "name": "stdout",
     "output_type": "stream",
     "text": [
      "finished computing distances\n",
      "enumerating change points\n",
      "number of dimensions: 1\n",
      "Number of segments = 687\n",
      "Computing 235641 segment distances\n"
     ]
    },
    {
     "name": "stderr",
     "output_type": "stream",
     "text": [
      "\u001b[32mProgress: 100%|█████████████████████████████████████████| Time: 0:00:14\u001b[39m\n"
     ]
    },
    {
     "name": "stdout",
     "output_type": "stream",
     "text": [
      "finished computing distances\n",
      "enumerating change points\n",
      "number of dimensions: 1\n",
      "Number of segments = 637\n",
      "Computing 202566 segment distances\n"
     ]
    },
    {
     "name": "stderr",
     "output_type": "stream",
     "text": [
      "\u001b[32mProgress: 100%|█████████████████████████████████████████| Time: 0:00:13\u001b[39m\n"
     ]
    },
    {
     "name": "stdout",
     "output_type": "stream",
     "text": [
      "finished computing distances\n",
      "enumerating change points\n",
      "number of dimensions: 1\n",
      "Number of segments = 8439\n",
      "Computing 35604141 segment distances\n"
     ]
    },
    {
     "name": "stderr",
     "output_type": "stream",
     "text": [
      "\u001b[32mProgress: 100%|█████████████████████████████████████████| Time: 0:03:26\u001b[39m\n"
     ]
    },
    {
     "name": "stdout",
     "output_type": "stream",
     "text": [
      "finished computing distances\n",
      "enumerating change points\n",
      "number of dimensions: 1\n",
      "Number of segments = 3215\n",
      "Computing 5166505 segment distances\n"
     ]
    },
    {
     "name": "stderr",
     "output_type": "stream",
     "text": [
      "\u001b[32mProgress: 100%|█████████████████████████████████████████| Time: 0:01:27\u001b[39m\n"
     ]
    },
    {
     "name": "stdout",
     "output_type": "stream",
     "text": [
      "finished computing distances\n",
      "enumerating change points\n",
      "number of dimensions: 1\n",
      "Number of segments = 1975\n",
      "Computing 1949325 segment distances\n"
     ]
    },
    {
     "name": "stderr",
     "output_type": "stream",
     "text": [
      "\u001b[32mProgress: 100%|█████████████████████████████████████████| Time: 0:00:50\u001b[39m\n"
     ]
    },
    {
     "name": "stdout",
     "output_type": "stream",
     "text": [
      "finished computing distances\n",
      "enumerating change points\n",
      "number of dimensions: 1\n",
      "Number of segments = 1575\n",
      "Computing 1239525 segment distances\n"
     ]
    },
    {
     "name": "stderr",
     "output_type": "stream",
     "text": [
      "\u001b[32mProgress: 100%|█████████████████████████████████████████| Time: 0:00:36\u001b[39m\n"
     ]
    },
    {
     "name": "stdout",
     "output_type": "stream",
     "text": [
      "finished computing distances\n",
      "enumerating change points\n",
      "number of dimensions: 1\n",
      "Number of segments = 1311\n",
      "Computing 858705 segment distances\n"
     ]
    },
    {
     "name": "stderr",
     "output_type": "stream",
     "text": [
      "\u001b[32mProgress: 100%|█████████████████████████████████████████| Time: 0:00:32\u001b[39m\n"
     ]
    },
    {
     "name": "stdout",
     "output_type": "stream",
     "text": [
      "finished computing distances\n",
      "enumerating change points\n",
      "number of dimensions: 1\n",
      "Number of segments = 1079\n",
      "Computing 581581 segment distances\n"
     ]
    },
    {
     "name": "stderr",
     "output_type": "stream",
     "text": [
      "\u001b[32mProgress: 100%|█████████████████████████████████████████| Time: 0:00:26\u001b[39m\n"
     ]
    },
    {
     "name": "stdout",
     "output_type": "stream",
     "text": [
      "finished computing distances\n",
      "enumerating change points\n",
      "number of dimensions: 1\n",
      "Number of segments = 883\n",
      "Computing 389403 segment distances\n"
     ]
    },
    {
     "name": "stderr",
     "output_type": "stream",
     "text": [
      "\u001b[32mProgress: 100%|█████████████████████████████████████████| Time: 0:00:19\u001b[39m\n"
     ]
    },
    {
     "name": "stdout",
     "output_type": "stream",
     "text": [
      "finished computing distances\n",
      "enumerating change points\n",
      "number of dimensions: 1\n",
      "Number of segments = 814\n",
      "Computing 330891 segment distances\n"
     ]
    },
    {
     "name": "stderr",
     "output_type": "stream",
     "text": [
      "\u001b[32mProgress: 100%|█████████████████████████████████████████| Time: 0:00:17\u001b[39m\n"
     ]
    },
    {
     "name": "stdout",
     "output_type": "stream",
     "text": [
      "finished computing distances\n",
      "enumerating change points\n",
      "number of dimensions: 1\n",
      "Number of segments = 699\n",
      "Computing 243951 segment distances\n"
     ]
    },
    {
     "name": "stderr",
     "output_type": "stream",
     "text": [
      "\u001b[32mProgress: 100%|█████████████████████████████████████████| Time: 0:00:14\u001b[39m\n"
     ]
    },
    {
     "name": "stdout",
     "output_type": "stream",
     "text": [
      "finished computing distances\n",
      "enumerating change points\n",
      "number of dimensions: 1\n",
      "Number of segments = 611\n",
      "Computing 186355 segment distances\n"
     ]
    },
    {
     "name": "stderr",
     "output_type": "stream",
     "text": [
      "\u001b[32mProgress: 100%|█████████████████████████████████████████| Time: 0:00:13\u001b[39m\n"
     ]
    },
    {
     "name": "stdout",
     "output_type": "stream",
     "text": [
      "finished computing distances\n",
      "enumerating change points\n",
      "number of dimensions: 1\n",
      "Number of segments = 8667\n",
      "Computing 37554111 segment distances\n"
     ]
    },
    {
     "name": "stderr",
     "output_type": "stream",
     "text": [
      "\u001b[32mProgress: 100%|█████████████████████████████████████████| Time: 0:03:35\u001b[39m\n"
     ]
    },
    {
     "name": "stdout",
     "output_type": "stream",
     "text": [
      "finished computing distances\n",
      "enumerating change points\n",
      "number of dimensions: 1\n",
      "Number of segments = 3199\n",
      "Computing 5115201 segment distances\n"
     ]
    },
    {
     "name": "stderr",
     "output_type": "stream",
     "text": [
      "\u001b[32mProgress: 100%|█████████████████████████████████████████| Time: 0:01:18\u001b[39m\n"
     ]
    },
    {
     "name": "stdout",
     "output_type": "stream",
     "text": [
      "finished computing distances\n",
      "enumerating change points\n",
      "number of dimensions: 1\n",
      "Number of segments = 1921\n",
      "Computing 1844160 segment distances\n"
     ]
    },
    {
     "name": "stderr",
     "output_type": "stream",
     "text": [
      "\u001b[32mProgress: 100%|█████████████████████████████████████████| Time: 0:00:45\u001b[39m\n"
     ]
    },
    {
     "name": "stdout",
     "output_type": "stream",
     "text": [
      "finished computing distances\n",
      "enumerating change points\n",
      "number of dimensions: 1\n",
      "Number of segments = 1555\n",
      "Computing 1208235 segment distances\n"
     ]
    },
    {
     "name": "stderr",
     "output_type": "stream",
     "text": [
      "\u001b[32mProgress: 100%|█████████████████████████████████████████| Time: 0:00:37\u001b[39m\n"
     ]
    },
    {
     "name": "stdout",
     "output_type": "stream",
     "text": [
      "finished computing distances\n",
      "enumerating change points\n",
      "number of dimensions: 1\n",
      "Number of segments = 1249\n",
      "Computing 779376 segment distances\n"
     ]
    },
    {
     "name": "stderr",
     "output_type": "stream",
     "text": [
      "\u001b[32mProgress: 100%|█████████████████████████████████████████| Time: 0:00:29\u001b[39m\n"
     ]
    },
    {
     "name": "stdout",
     "output_type": "stream",
     "text": [
      "finished computing distances\n",
      "enumerating change points\n",
      "number of dimensions: 1\n",
      "Number of segments = 1065\n",
      "Computing 566580 segment distances\n"
     ]
    },
    {
     "name": "stderr",
     "output_type": "stream",
     "text": [
      "\u001b[32mProgress: 100%|█████████████████████████████████████████| Time: 0:00:24\u001b[39m\n"
     ]
    },
    {
     "name": "stdout",
     "output_type": "stream",
     "text": [
      "finished computing distances\n",
      "enumerating change points\n",
      "number of dimensions: 1\n",
      "Number of segments = 875\n",
      "Computing 382375 segment distances\n"
     ]
    },
    {
     "name": "stderr",
     "output_type": "stream",
     "text": [
      "\u001b[32mProgress: 100%|█████████████████████████████████████████| Time: 0:00:20\u001b[39m\n"
     ]
    },
    {
     "name": "stdout",
     "output_type": "stream",
     "text": [
      "finished computing distances\n",
      "enumerating change points\n",
      "number of dimensions: 1\n",
      "Number of segments = 725\n",
      "Computing 262450 segment distances\n"
     ]
    },
    {
     "name": "stderr",
     "output_type": "stream",
     "text": [
      "\u001b[32mProgress: 100%|█████████████████████████████████████████| Time: 0:00:16\u001b[39m\n"
     ]
    },
    {
     "name": "stdout",
     "output_type": "stream",
     "text": [
      "finished computing distances\n",
      "enumerating change points\n",
      "number of dimensions: 1\n",
      "Number of segments = 667\n",
      "Computing 222111 segment distances\n"
     ]
    },
    {
     "name": "stderr",
     "output_type": "stream",
     "text": [
      "\u001b[32mProgress: 100%|█████████████████████████████████████████| Time: 0:00:15\u001b[39m\n"
     ]
    },
    {
     "name": "stdout",
     "output_type": "stream",
     "text": [
      "finished computing distances\n",
      "enumerating change points\n",
      "number of dimensions: 1\n",
      "Number of segments = 621\n",
      "Computing 192510 segment distances\n"
     ]
    },
    {
     "name": "stderr",
     "output_type": "stream",
     "text": [
      "\u001b[32mProgress: 100%|█████████████████████████████████████████| Time: 0:00:13\u001b[39m\n"
     ]
    },
    {
     "name": "stdout",
     "output_type": "stream",
     "text": [
      "finished computing distances\n",
      "enumerating change points\n",
      "number of dimensions: 1\n",
      "Number of segments = 8237\n",
      "Computing 33919966 segment distances\n"
     ]
    },
    {
     "name": "stderr",
     "output_type": "stream",
     "text": [
      "\u001b[32mProgress: 100%|█████████████████████████████████████████| Time: 0:03:04\u001b[39m\n"
     ]
    },
    {
     "name": "stdout",
     "output_type": "stream",
     "text": [
      "finished computing distances\n",
      "enumerating change points\n",
      "number of dimensions: 1\n",
      "Number of segments = 2929\n",
      "Computing 4288056 segment distances\n"
     ]
    },
    {
     "name": "stderr",
     "output_type": "stream",
     "text": [
      "\u001b[32mProgress: 100%|█████████████████████████████████████████| Time: 0:01:01\u001b[39m\n"
     ]
    },
    {
     "name": "stdout",
     "output_type": "stream",
     "text": [
      "finished computing distances\n",
      "enumerating change points\n",
      "number of dimensions: 1\n",
      "Number of segments = 1793\n",
      "Computing 1606528 segment distances\n"
     ]
    },
    {
     "name": "stderr",
     "output_type": "stream",
     "text": [
      "\u001b[32mProgress: 100%|█████████████████████████████████████████| Time: 0:00:37\u001b[39m\n"
     ]
    },
    {
     "name": "stdout",
     "output_type": "stream",
     "text": [
      "finished computing distances\n",
      "enumerating change points\n",
      "number of dimensions: 1\n",
      "Number of segments = 1437\n",
      "Computing 1031766 segment distances\n"
     ]
    },
    {
     "name": "stderr",
     "output_type": "stream",
     "text": [
      "\u001b[32mProgress: 100%|█████████████████████████████████████████| Time: 0:00:30\u001b[39m\n"
     ]
    },
    {
     "name": "stdout",
     "output_type": "stream",
     "text": [
      "finished computing distances\n",
      "enumerating change points\n",
      "number of dimensions: 1\n",
      "Number of segments = 1141\n",
      "Computing 650370 segment distances\n"
     ]
    },
    {
     "name": "stderr",
     "output_type": "stream",
     "text": [
      "\u001b[32mProgress: 100%|█████████████████████████████████████████| Time: 0:00:23\u001b[39m\n"
     ]
    },
    {
     "name": "stdout",
     "output_type": "stream",
     "text": [
      "finished computing distances\n",
      "enumerating change points\n",
      "number of dimensions: 1\n",
      "Number of segments = 991\n",
      "Computing 490545 segment distances\n"
     ]
    },
    {
     "name": "stderr",
     "output_type": "stream",
     "text": [
      "\u001b[32mProgress: 100%|█████████████████████████████████████████| Time: 0:00:20\u001b[39m\n"
     ]
    },
    {
     "name": "stdout",
     "output_type": "stream",
     "text": [
      "finished computing distances\n",
      "enumerating change points\n",
      "number of dimensions: 1\n",
      "Number of segments = 817\n",
      "Computing 333336 segment distances\n"
     ]
    },
    {
     "name": "stderr",
     "output_type": "stream",
     "text": [
      "\u001b[32mProgress: 100%|█████████████████████████████████████████| Time: 0:00:16\u001b[39m\n"
     ]
    },
    {
     "name": "stdout",
     "output_type": "stream",
     "text": [
      "finished computing distances\n",
      "enumerating change points\n",
      "number of dimensions: 1\n",
      "Number of segments = 703\n",
      "Computing 246753 segment distances\n"
     ]
    },
    {
     "name": "stderr",
     "output_type": "stream",
     "text": [
      "\u001b[32mProgress: 100%|█████████████████████████████████████████| Time: 0:00:14\u001b[39m\n"
     ]
    },
    {
     "name": "stdout",
     "output_type": "stream",
     "text": [
      "finished computing distances\n",
      "enumerating change points\n",
      "number of dimensions: 1\n",
      "Number of segments = 649\n",
      "Computing 210276 segment distances\n"
     ]
    },
    {
     "name": "stderr",
     "output_type": "stream",
     "text": [
      "\u001b[32mProgress: 100%|█████████████████████████████████████████| Time: 0:00:13\u001b[39m\n"
     ]
    },
    {
     "name": "stdout",
     "output_type": "stream",
     "text": [
      "finished computing distances\n",
      "enumerating change points\n",
      "number of dimensions: 1\n",
      "Number of segments = 547\n",
      "Computing 149331 segment distances\n"
     ]
    },
    {
     "name": "stderr",
     "output_type": "stream",
     "text": [
      "\u001b[32mProgress: 100%|█████████████████████████████████████████| Time: 0:00:11\u001b[39m\n"
     ]
    },
    {
     "name": "stdout",
     "output_type": "stream",
     "text": [
      "finished computing distances\n",
      "enumerating change points\n",
      "number of dimensions: 1\n",
      "Number of segments = 7441\n",
      "Computing 27680520 segment distances\n"
     ]
    },
    {
     "name": "stderr",
     "output_type": "stream",
     "text": [
      "\u001b[32mProgress: 100%|█████████████████████████████████████████| Time: 0:02:43\u001b[39m\n"
     ]
    },
    {
     "name": "stdout",
     "output_type": "stream",
     "text": [
      "finished computing distances\n",
      "enumerating change points\n",
      "number of dimensions: 1\n",
      "Number of segments = 2573\n",
      "Computing 3308878 segment distances\n"
     ]
    },
    {
     "name": "stderr",
     "output_type": "stream",
     "text": [
      "\u001b[32mProgress: 100%|█████████████████████████████████████████| Time: 0:00:54\u001b[39m\n"
     ]
    },
    {
     "name": "stdout",
     "output_type": "stream",
     "text": [
      "finished computing distances\n",
      "enumerating change points\n",
      "number of dimensions: 1\n",
      "Number of segments = 1649\n",
      "Computing 1358776 segment distances\n"
     ]
    },
    {
     "name": "stderr",
     "output_type": "stream",
     "text": [
      "\u001b[32mProgress: 100%|█████████████████████████████████████████| Time: 0:00:34\u001b[39m\n"
     ]
    },
    {
     "name": "stdout",
     "output_type": "stream",
     "text": [
      "finished computing distances\n",
      "enumerating change points\n",
      "number of dimensions: 1\n",
      "Number of segments = 1307\n",
      "Computing 853471 segment distances\n"
     ]
    },
    {
     "name": "stderr",
     "output_type": "stream",
     "text": [
      "\u001b[32mProgress: 100%|█████████████████████████████████████████| Time: 0:00:27\u001b[39m\n"
     ]
    },
    {
     "name": "stdout",
     "output_type": "stream",
     "text": [
      "finished computing distances\n",
      "enumerating change points\n",
      "number of dimensions: 1\n",
      "Number of segments = 1043\n",
      "Computing 543403 segment distances\n"
     ]
    },
    {
     "name": "stderr",
     "output_type": "stream",
     "text": [
      "\u001b[32mProgress: 100%|█████████████████████████████████████████| Time: 0:00:21\u001b[39m\n"
     ]
    },
    {
     "name": "stdout",
     "output_type": "stream",
     "text": [
      "finished computing distances\n",
      "enumerating change points\n",
      "number of dimensions: 1\n",
      "Number of segments = 877\n",
      "Computing 384126 segment distances\n"
     ]
    },
    {
     "name": "stderr",
     "output_type": "stream",
     "text": [
      "\u001b[32mProgress: 100%|█████████████████████████████████████████| Time: 0:00:18\u001b[39m\n"
     ]
    },
    {
     "name": "stdout",
     "output_type": "stream",
     "text": [
      "finished computing distances\n",
      "enumerating change points\n",
      "number of dimensions: 1\n",
      "Number of segments = 755\n",
      "Computing 284635 segment distances\n"
     ]
    },
    {
     "name": "stderr",
     "output_type": "stream",
     "text": [
      "\u001b[32mProgress: 100%|█████████████████████████████████████████| Time: 0:00:15\u001b[39m\n"
     ]
    },
    {
     "name": "stdout",
     "output_type": "stream",
     "text": [
      "finished computing distances\n",
      "enumerating change points\n",
      "number of dimensions: 1\n",
      "Number of segments = 649\n",
      "Computing 210276 segment distances\n"
     ]
    },
    {
     "name": "stderr",
     "output_type": "stream",
     "text": [
      "\u001b[32mProgress: 100%|█████████████████████████████████████████| Time: 0:00:13\u001b[39m\n"
     ]
    },
    {
     "name": "stdout",
     "output_type": "stream",
     "text": [
      "finished computing distances\n",
      "enumerating change points\n",
      "number of dimensions: 1\n",
      "Number of segments = 563\n",
      "Computing 158203 segment distances\n"
     ]
    },
    {
     "name": "stderr",
     "output_type": "stream",
     "text": [
      "\u001b[32mProgress: 100%|█████████████████████████████████████████| Time: 0:00:11\u001b[39m\n"
     ]
    },
    {
     "name": "stdout",
     "output_type": "stream",
     "text": [
      "finished computing distances\n",
      "enumerating change points\n",
      "number of dimensions: 1\n",
      "Number of segments = 519\n",
      "Computing 134421 segment distances\n"
     ]
    },
    {
     "name": "stderr",
     "output_type": "stream",
     "text": [
      "\u001b[32mProgress: 100%|█████████████████████████████████████████| Time: 0:00:10\u001b[39m\n"
     ]
    },
    {
     "name": "stdout",
     "output_type": "stream",
     "text": [
      "finished computing distances\n",
      "enumerating change points\n",
      "number of dimensions: 1\n",
      "Number of segments = 6233\n",
      "Computing 19422028 segment distances\n"
     ]
    },
    {
     "name": "stderr",
     "output_type": "stream",
     "text": [
      "\u001b[32mProgress: 100%|█████████████████████████████████████████| Time: 0:02:15\u001b[39m\n"
     ]
    },
    {
     "name": "stdout",
     "output_type": "stream",
     "text": [
      "finished computing distances\n",
      "enumerating change points\n",
      "number of dimensions: 1\n",
      "Number of segments = 2253\n",
      "Computing 2536878 segment distances\n"
     ]
    },
    {
     "name": "stderr",
     "output_type": "stream",
     "text": [
      "\u001b[32mProgress: 100%|█████████████████████████████████████████| Time: 0:00:46\u001b[39m\n"
     ]
    },
    {
     "name": "stdout",
     "output_type": "stream",
     "text": [
      "finished computing distances\n",
      "enumerating change points\n",
      "number of dimensions: 1\n",
      "Number of segments = 1493\n",
      "Computing 1113778 segment distances\n"
     ]
    },
    {
     "name": "stderr",
     "output_type": "stream",
     "text": [
      "\u001b[32mProgress: 100%|█████████████████████████████████████████| Time: 0:00:30\u001b[39m\n"
     ]
    },
    {
     "name": "stdout",
     "output_type": "stream",
     "text": [
      "finished computing distances\n",
      "enumerating change points\n",
      "number of dimensions: 1\n",
      "Number of segments = 1152\n",
      "Computing 662976 segment distances\n"
     ]
    },
    {
     "name": "stderr",
     "output_type": "stream",
     "text": [
      "\u001b[32mProgress: 100%|█████████████████████████████████████████| Time: 0:00:23\u001b[39m\n"
     ]
    },
    {
     "name": "stdout",
     "output_type": "stream",
     "text": [
      "finished computing distances\n",
      "enumerating change points\n",
      "number of dimensions: 1\n",
      "Number of segments = 935\n",
      "Computing 436645 segment distances\n"
     ]
    },
    {
     "name": "stderr",
     "output_type": "stream",
     "text": [
      "\u001b[32mProgress: 100%|█████████████████████████████████████████| Time: 0:00:20\u001b[39m\n"
     ]
    },
    {
     "name": "stdout",
     "output_type": "stream",
     "text": [
      "finished computing distances\n",
      "enumerating change points\n",
      "number of dimensions: 1\n",
      "Number of segments = 793\n",
      "Computing 314028 segment distances\n"
     ]
    },
    {
     "name": "stderr",
     "output_type": "stream",
     "text": [
      "\u001b[32mProgress: 100%|█████████████████████████████████████████| Time: 0:00:16\u001b[39m\n"
     ]
    },
    {
     "name": "stdout",
     "output_type": "stream",
     "text": [
      "finished computing distances\n",
      "enumerating change points\n",
      "number of dimensions: 1\n",
      "Number of segments = 641\n",
      "Computing 205120 segment distances\n"
     ]
    },
    {
     "name": "stderr",
     "output_type": "stream",
     "text": [
      "\u001b[32mProgress: 100%|█████████████████████████████████████████| Time: 0:00:13\u001b[39m\n"
     ]
    },
    {
     "name": "stdout",
     "output_type": "stream",
     "text": [
      "finished computing distances\n",
      "enumerating change points\n",
      "number of dimensions: 1\n",
      "Number of segments = 559\n",
      "Computing 155961 segment distances\n"
     ]
    },
    {
     "name": "stderr",
     "output_type": "stream",
     "text": [
      "\u001b[32mProgress: 100%|█████████████████████████████████████████| Time: 0:00:11\u001b[39m\n"
     ]
    },
    {
     "name": "stdout",
     "output_type": "stream",
     "text": [
      "finished computing distances\n",
      "enumerating change points\n",
      "number of dimensions: 1\n",
      "Number of segments = 481\n",
      "Computing 115440 segment distances\n"
     ]
    },
    {
     "name": "stderr",
     "output_type": "stream",
     "text": [
      "\u001b[32mProgress: 100%|█████████████████████████████████████████| Time: 0:00:09\u001b[39m\n"
     ]
    },
    {
     "name": "stdout",
     "output_type": "stream",
     "text": [
      "finished computing distances\n",
      "enumerating change points\n",
      "number of dimensions: 1\n",
      "Number of segments = 431\n",
      "Computing 92665 segment distances\n"
     ]
    },
    {
     "name": "stderr",
     "output_type": "stream",
     "text": [
      "\u001b[32mProgress: 100%|█████████████████████████████████████████| Time: 0:00:08\u001b[39m\n"
     ]
    },
    {
     "name": "stdout",
     "output_type": "stream",
     "text": [
      "finished computing distances\n",
      "enumerating change points\n",
      "number of dimensions: 1\n",
      "Number of segments = 4971\n",
      "Computing 12352935 segment distances\n"
     ]
    },
    {
     "name": "stderr",
     "output_type": "stream",
     "text": [
      "\u001b[32mProgress: 100%|█████████████████████████████████████████| Time: 0:01:46\u001b[39m\n"
     ]
    },
    {
     "name": "stdout",
     "output_type": "stream",
     "text": [
      "finished computing distances\n",
      "enumerating change points\n",
      "number of dimensions: 1\n",
      "Number of segments = 1935\n",
      "Computing 1871145 segment distances\n"
     ]
    },
    {
     "name": "stderr",
     "output_type": "stream",
     "text": [
      "\u001b[32mProgress: 100%|█████████████████████████████████████████| Time: 0:00:39\u001b[39m\n"
     ]
    },
    {
     "name": "stdout",
     "output_type": "stream",
     "text": [
      "finished computing distances\n",
      "enumerating change points\n",
      "number of dimensions: 1\n",
      "Number of segments = 1293\n",
      "Computing 835278 segment distances\n"
     ]
    },
    {
     "name": "stderr",
     "output_type": "stream",
     "text": [
      "\u001b[32mProgress: 100%|█████████████████████████████████████████| Time: 0:00:26\u001b[39m\n"
     ]
    },
    {
     "name": "stdout",
     "output_type": "stream",
     "text": [
      "finished computing distances\n",
      "enumerating change points\n",
      "number of dimensions: 1\n",
      "Number of segments = 969\n",
      "Computing 468996 segment distances\n"
     ]
    },
    {
     "name": "stderr",
     "output_type": "stream",
     "text": [
      "\u001b[32mProgress: 100%|█████████████████████████████████████████| Time: 0:00:20\u001b[39m\n"
     ]
    },
    {
     "name": "stdout",
     "output_type": "stream",
     "text": [
      "finished computing distances\n",
      "enumerating change points\n",
      "number of dimensions: 1\n",
      "Number of segments = 781\n",
      "Computing 304590 segment distances\n"
     ]
    },
    {
     "name": "stderr",
     "output_type": "stream",
     "text": [
      "\u001b[32mProgress: 100%|█████████████████████████████████████████| Time: 0:00:16\u001b[39m\n"
     ]
    },
    {
     "name": "stdout",
     "output_type": "stream",
     "text": [
      "finished computing distances\n",
      "enumerating change points\n",
      "number of dimensions: 1\n",
      "Number of segments = 639\n",
      "Computing 203841 segment distances\n"
     ]
    },
    {
     "name": "stderr",
     "output_type": "stream",
     "text": [
      "\u001b[32mProgress: 100%|█████████████████████████████████████████| Time: 0:00:13\u001b[39m\n"
     ]
    },
    {
     "name": "stdout",
     "output_type": "stream",
     "text": [
      "finished computing distances\n",
      "enumerating change points\n",
      "number of dimensions: 1\n",
      "Number of segments = 507\n",
      "Computing 128271 segment distances\n"
     ]
    },
    {
     "name": "stderr",
     "output_type": "stream",
     "text": [
      "\u001b[32mProgress: 100%|█████████████████████████████████████████| Time: 0:00:10\u001b[39m\n"
     ]
    },
    {
     "name": "stdout",
     "output_type": "stream",
     "text": [
      "finished computing distances\n",
      "enumerating change points\n",
      "number of dimensions: 1\n",
      "Number of segments = 445\n",
      "Computing 98790 segment distances\n"
     ]
    },
    {
     "name": "stderr",
     "output_type": "stream",
     "text": [
      "\u001b[32mProgress: 100%|█████████████████████████████████████████| Time: 0:00:09\u001b[39m\n"
     ]
    },
    {
     "name": "stdout",
     "output_type": "stream",
     "text": [
      "finished computing distances\n",
      "enumerating change points\n",
      "number of dimensions: 1\n",
      "Number of segments = 379\n",
      "Computing 71631 segment distances\n"
     ]
    },
    {
     "name": "stderr",
     "output_type": "stream",
     "text": [
      "\u001b[32mProgress: 100%|█████████████████████████████████████████| Time: 0:00:07\u001b[39m\n"
     ]
    },
    {
     "name": "stdout",
     "output_type": "stream",
     "text": [
      "finished computing distances\n",
      "enumerating change points\n",
      "number of dimensions: 1\n",
      "Number of segments = 327\n",
      "Computing 53301 segment distances\n"
     ]
    },
    {
     "name": "stderr",
     "output_type": "stream",
     "text": [
      "\u001b[32mProgress: 100%|█████████████████████████████████████████| Time: 0:00:06\u001b[39m\n"
     ]
    },
    {
     "name": "stdout",
     "output_type": "stream",
     "text": [
      "finished computing distances\n",
      "enumerating change points\n",
      "number of dimensions: 1\n",
      "Number of segments = 3477\n",
      "Computing 6043026 segment distances\n"
     ]
    },
    {
     "name": "stderr",
     "output_type": "stream",
     "text": [
      "\u001b[32mProgress: 100%|█████████████████████████████████████████| Time: 0:01:13\u001b[39m\n"
     ]
    },
    {
     "name": "stdout",
     "output_type": "stream",
     "text": [
      "finished computing distances\n",
      "enumerating change points\n",
      "number of dimensions: 1\n",
      "Number of segments = 1619\n",
      "Computing 1309771 segment distances\n"
     ]
    },
    {
     "name": "stderr",
     "output_type": "stream",
     "text": [
      "\u001b[32mProgress: 100%|█████████████████████████████████████████| Time: 0:00:33\u001b[39m\n"
     ]
    },
    {
     "name": "stdout",
     "output_type": "stream",
     "text": [
      "finished computing distances\n",
      "enumerating change points\n",
      "number of dimensions: 1\n",
      "Number of segments = 987\n",
      "Computing 486591 segment distances\n"
     ]
    },
    {
     "name": "stderr",
     "output_type": "stream",
     "text": [
      "\u001b[32mProgress: 100%|█████████████████████████████████████████| Time: 0:00:20\u001b[39m\n"
     ]
    },
    {
     "name": "stdout",
     "output_type": "stream",
     "text": [
      "finished computing distances\n",
      "enumerating change points\n",
      "number of dimensions: 1\n",
      "Number of segments = 749\n",
      "Computing 280126 segment distances\n"
     ]
    },
    {
     "name": "stderr",
     "output_type": "stream",
     "text": [
      "\u001b[32mProgress: 100%|█████████████████████████████████████████| Time: 0:00:15\u001b[39m\n"
     ]
    },
    {
     "name": "stdout",
     "output_type": "stream",
     "text": [
      "finished computing distances\n",
      "enumerating change points\n",
      "number of dimensions: 1\n",
      "Number of segments = 533\n",
      "Computing 141778 segment distances\n"
     ]
    },
    {
     "name": "stderr",
     "output_type": "stream",
     "text": [
      "\u001b[32mProgress: 100%|█████████████████████████████████████████| Time: 0:00:11\u001b[39m\n"
     ]
    },
    {
     "name": "stdout",
     "output_type": "stream",
     "text": [
      "finished computing distances\n",
      "enumerating change points\n",
      "number of dimensions: 1\n",
      "Number of segments = 411\n",
      "Computing 84255 segment distances\n"
     ]
    },
    {
     "name": "stderr",
     "output_type": "stream",
     "text": [
      "\u001b[32mProgress: 100%|█████████████████████████████████████████| Time: 0:00:08\u001b[39m\n"
     ]
    },
    {
     "name": "stdout",
     "output_type": "stream",
     "text": [
      "finished computing distances\n",
      "enumerating change points\n",
      "number of dimensions: 1\n",
      "Number of segments = 361\n",
      "Computing 64980 segment distances\n"
     ]
    },
    {
     "name": "stderr",
     "output_type": "stream",
     "text": [
      "\u001b[32mProgress: 100%|█████████████████████████████████████████| Time: 0:00:07\u001b[39m\n"
     ]
    },
    {
     "name": "stdout",
     "output_type": "stream",
     "text": [
      "finished computing distances\n",
      "enumerating change points\n",
      "number of dimensions: 1\n",
      "Number of segments = 313\n",
      "Computing 48828 segment distances\n"
     ]
    },
    {
     "name": "stderr",
     "output_type": "stream",
     "text": [
      "\u001b[32mProgress: 100%|█████████████████████████████████████████| Time: 0:00:06\u001b[39m\n"
     ]
    },
    {
     "name": "stdout",
     "output_type": "stream",
     "text": [
      "finished computing distances\n",
      "enumerating change points\n",
      "number of dimensions: 1\n",
      "Number of segments = 265\n",
      "Computing 34980 segment distances\n"
     ]
    },
    {
     "name": "stderr",
     "output_type": "stream",
     "text": [
      "\u001b[32mProgress: 100%|█████████████████████████████████████████| Time: 0:00:05\u001b[39m\n"
     ]
    },
    {
     "name": "stdout",
     "output_type": "stream",
     "text": [
      "finished computing distances\n",
      "enumerating change points\n",
      "number of dimensions: 1\n",
      "Number of segments = 223\n",
      "Computing 24753 segment distances\n"
     ]
    },
    {
     "name": "stderr",
     "output_type": "stream",
     "text": [
      "\u001b[32mProgress: 100%|█████████████████████████████████████████| Time: 0:00:04\u001b[39m\n"
     ]
    },
    {
     "name": "stdout",
     "output_type": "stream",
     "text": [
      "finished computing distances\n",
      "enumerating change points\n",
      "number of dimensions: 1\n",
      "Number of segments = 2144\n",
      "Computing 2297296 segment distances\n"
     ]
    },
    {
     "name": "stderr",
     "output_type": "stream",
     "text": [
      "\u001b[32mProgress: 100%|█████████████████████████████████████████| Time: 0:00:44\u001b[39m\n"
     ]
    },
    {
     "name": "stdout",
     "output_type": "stream",
     "text": [
      "finished computing distances\n",
      "enumerating change points\n",
      "number of dimensions: 1\n",
      "Number of segments = 1071\n",
      "Computing 572985 segment distances\n"
     ]
    },
    {
     "name": "stderr",
     "output_type": "stream",
     "text": [
      "\u001b[32mProgress: 100%|█████████████████████████████████████████| Time: 0:00:21\u001b[39m\n"
     ]
    },
    {
     "name": "stdout",
     "output_type": "stream",
     "text": [
      "finished computing distances\n",
      "enumerating change points\n",
      "number of dimensions: 1\n",
      "Number of segments = 629\n",
      "Computing 197506 segment distances\n"
     ]
    },
    {
     "name": "stderr",
     "output_type": "stream",
     "text": [
      "\u001b[32mProgress: 100%|█████████████████████████████████████████| Time: 0:00:12\u001b[39m\n"
     ]
    },
    {
     "name": "stdout",
     "output_type": "stream",
     "text": [
      "finished computing distances\n",
      "enumerating change points\n",
      "number of dimensions: 1\n",
      "Number of segments = 395\n",
      "Computing 77815 segment distances\n"
     ]
    },
    {
     "name": "stderr",
     "output_type": "stream",
     "text": [
      "\u001b[32mProgress: 100%|█████████████████████████████████████████| Time: 0:00:07\u001b[39m\n"
     ]
    },
    {
     "name": "stdout",
     "output_type": "stream",
     "text": [
      "finished computing distances\n",
      "enumerating change points\n",
      "number of dimensions: 1\n",
      "Number of segments = 261\n",
      "Computing 33930 segment distances\n"
     ]
    },
    {
     "name": "stderr",
     "output_type": "stream",
     "text": [
      "\u001b[32mProgress: 100%|█████████████████████████████████████████| Time: 0:00:05\u001b[39m\n"
     ]
    },
    {
     "name": "stdout",
     "output_type": "stream",
     "text": [
      "finished computing distances\n",
      "enumerating change points\n",
      "number of dimensions: 1\n",
      "Number of segments = 227\n",
      "Computing 25651 segment distances\n"
     ]
    },
    {
     "name": "stderr",
     "output_type": "stream",
     "text": [
      "\u001b[32mProgress: 100%|█████████████████████████████████████████| Time: 0:00:04\u001b[39m\n"
     ]
    },
    {
     "name": "stdout",
     "output_type": "stream",
     "text": [
      "finished computing distances\n",
      "enumerating change points\n",
      "number of dimensions: 1\n",
      "Number of segments = 203\n",
      "Computing 20503 segment distances\n"
     ]
    },
    {
     "name": "stderr",
     "output_type": "stream",
     "text": [
      "\u001b[32mProgress: 100%|█████████████████████████████████████████| Time: 0:00:04\u001b[39m\n"
     ]
    },
    {
     "name": "stdout",
     "output_type": "stream",
     "text": [
      "finished computing distances\n",
      "enumerating change points\n",
      "number of dimensions: 1\n",
      "Number of segments = 189\n",
      "Computing 17766 segment distances\n"
     ]
    },
    {
     "name": "stderr",
     "output_type": "stream",
     "text": [
      "\u001b[32mProgress: 100%|█████████████████████████████████████████| Time: 0:00:03\u001b[39m\n"
     ]
    },
    {
     "name": "stdout",
     "output_type": "stream",
     "text": [
      "finished computing distances\n",
      "enumerating change points\n",
      "number of dimensions: 1\n",
      "Number of segments = 173\n",
      "Computing 14878 segment distances\n"
     ]
    },
    {
     "name": "stderr",
     "output_type": "stream",
     "text": [
      "\u001b[32mProgress: 100%|█████████████████████████████████████████| Time: 0:00:03\u001b[39m\n"
     ]
    },
    {
     "name": "stdout",
     "output_type": "stream",
     "text": [
      "finished computing distances\n",
      "enumerating change points\n",
      "number of dimensions: 1\n",
      "Number of segments = 153\n",
      "Computing 11628 segment distances\n"
     ]
    },
    {
     "name": "stderr",
     "output_type": "stream",
     "text": [
      "\u001b[32mProgress: 100%|█████████████████████████████████████████| Time: 0:00:03\u001b[39m\n"
     ]
    },
    {
     "name": "stdout",
     "output_type": "stream",
     "text": [
      "finished computing distances\n",
      "1.9833574111119263\n"
     ]
    }
   ],
   "source": [
    "N = 10\n",
    "T = 50000\n",
    "scores = zeros(N, N)\n",
    "qs = LinRange(0.1, 0.9, N)\n",
    "ws = LinRange(5, 100, N)\n",
    "for i=1:N, j=1:N\n",
    "    try\n",
    "        scores[i,j] = score_parameters(qs[i], trunc(Int, ws[j]), T)\n",
    "    catch err\n",
    "        continue\n",
    "    end\n",
    "end\n",
    "println(maximum(scores))"
   ]
  },
  {
   "cell_type": "code",
   "execution_count": 71,
   "id": "2e043a2a",
   "metadata": {},
   "outputs": [
    {
     "data": {
      "text/plain": [
       "(0.2777777777777778, 89)"
      ]
     },
     "execution_count": 71,
     "metadata": {},
     "output_type": "execute_result"
    }
   ],
   "source": [
    "argmax(scores)\n",
    "q = qs[3]\n",
    "w = trunc(Int,ws[9])\n",
    "q, w"
   ]
  },
  {
   "cell_type": "code",
   "execution_count": 72,
   "id": "b821de89",
   "metadata": {},
   "outputs": [
    {
     "name": "stdout",
     "output_type": "stream",
     "text": [
      "enumerating change points\n",
      "number of dimensions: 1\n",
      "Number of segments = 1385\n",
      "Computing 958420 segment distances\n"
     ]
    },
    {
     "name": "stderr",
     "output_type": "stream",
     "text": [
      "\u001b[32mProgress: 100%|█████████████████████████████████████████| Time: 0:00:58\u001b[39m\n"
     ]
    },
    {
     "name": "stdout",
     "output_type": "stream",
     "text": [
      "finished computing distances\n"
     ]
    },
    {
     "data": {
      "text/plain": [
       "1.941011342823412"
      ]
     },
     "execution_count": 72,
     "metadata": {},
     "output_type": "execute_result"
    }
   ],
   "source": [
    "changes = compute_change_points(X, q, w)\n",
    "dists = pairwise_segment_distances_1d(X, changes)\n",
    "data = Data.Data(distances=dists)\n",
    "Z = 1.65\n",
    "halo = false\n",
    "labels = data.compute_clustering_ADP(Z=Z, halo=halo)\n",
    "pt_labels = label_series(X, changes, labels)\n",
    "model = VAMP(lagtime=5).fit(pt_labels).fetch_model()\n",
    "score = vamp_score(model, 2)"
   ]
  },
  {
   "cell_type": "code",
   "execution_count": 79,
   "id": "c22c2549",
   "metadata": {},
   "outputs": [],
   "source": [
    "q = 0.28\n",
    "open(\"/Users/dcg/projects/DPA/data/prinz_changes-$(w)-$(q).txt\", \"w\") do io\n",
    "           writedlm(io, changes)\n",
    "end\n",
    "\n",
    "open(\"/Users/dcg/projects/DPA/data/prinz_dists-$(w)-$(q).txt\", \"w\") do io\n",
    "           writedlm(io, dists)\n",
    "end"
   ]
  },
  {
   "cell_type": "code",
   "execution_count": 78,
   "id": "bc0fa00e",
   "metadata": {},
   "outputs": [
    {
     "data": {
      "text/plain": [
       "0.0"
      ]
     },
     "execution_count": 78,
     "metadata": {},
     "output_type": "execute_result"
    }
   ],
   "source": [
    "trunc(q)"
   ]
  },
  {
   "cell_type": "code",
   "execution_count": null,
   "id": "e2a51197",
   "metadata": {},
   "outputs": [],
   "source": []
  }
 ],
 "metadata": {
  "kernelspec": {
   "display_name": "Julia 1.11.5",
   "language": "julia",
   "name": "julia-1.11"
  },
  "language_info": {
   "file_extension": ".jl",
   "mimetype": "application/julia",
   "name": "julia",
   "version": "1.11.5"
  }
 },
 "nbformat": 4,
 "nbformat_minor": 5
}
