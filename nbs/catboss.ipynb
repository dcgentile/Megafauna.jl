{
 "cells": [
  {
   "cell_type": "code",
   "execution_count": null,
   "id": "0c10aa57-0926-48d2-9f15-d75e0b2fec25",
   "metadata": {},
   "outputs": [],
   "source": [
    "using OptimalTransport\n",
    "using DelimitedFiles\n",
    "using Distances\n",
    "using ProgressMeter\n",
    "using Megafauna\n",
    "include(\"../src/DPC.jl\")\n",
    "\n",
    "dihedrals = readdlm(\"../data/ADP/A_2D_1ps.dat\");\n",
    "shifted_dehrals = readdlm(\"../data/ADP/A_2D_1ps_shifted.dat\");\n",
    "change_points = readdlm(\"../data/ADP/A_2D_1ps_shifted.lam10.0alpha0.7.transitionProba.dat\");\n",
    "\n",
    "change_points = findall(x -> any(y -> y > 0, x), eachrow(change_points[:,2:3]))\n",
    "\n",
    "N = length(change_points)\n",
    "N = 100\n",
    "D = zeros(N,N)\n",
    "ε = 1.\n",
    "p = Progress((N * (N - 1)) ÷ 2)   # minimum update interval: 1 second\n",
    "\n",
    "Threads.@threads for idx = 1:N^2\n",
    "    i, j = fldmod1(idx, N)  # Convert linear index to (i,j) coordinates\n",
    "    if i > j\n",
    "        t0, t1 = change_points[i], change_points[i+1]\n",
    "        s0, s1 = change_points[j], change_points[j+1]\n",
    "        Si, Sj = dihedrals[t0:t1,:], dihedrals[s0:s1,:]\n",
    "        C = pairwise(PeriodicEuclidean([360 360]), Si', Sj').^2\n",
    "        a, b = fill(1, t1 - t0 + 1) / (t1 - t0 + 1), fill(1, s1 - s0 + 1) / (s1 - s0 + 1)\n",
    "        d = sinkhorn2(a, b, C, ε);\n",
    "        D[i,j] = D[j, i] = d\n",
    "        next!(p)\n",
    "    end\n",
    "end"
   ]
  },
  {
   "cell_type": "markdown",
   "id": "b107ea64-91df-4618-9853-34179cc6e81d",
   "metadata": {},
   "source": [
    "# change points were computed via SIMPLE, now compute intersegment distances with EMD "
   ]
  },
  {
   "cell_type": "code",
   "execution_count": null,
   "id": "542fd4d5-cab3-4281-b273-f380e74aa851",
   "metadata": {},
   "outputs": [],
   "source": []
  }
 ],
 "metadata": {
  "kernelspec": {
   "display_name": "Julia 1.11.3",
   "language": "julia",
   "name": "julia-1.11"
  },
  "language_info": {
   "file_extension": ".jl",
   "mimetype": "application/julia",
   "name": "julia",
   "version": "1.11.3"
  }
 },
 "nbformat": 4,
 "nbformat_minor": 5
}
